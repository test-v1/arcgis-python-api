{
 "cells": [
  {
   "cell_type": "markdown",
   "metadata": {},
   "source": [
    "# Analysis with Geoprocessing"
   ]
  },
  {
   "cell_type": "code",
   "execution_count": null,
   "metadata": {},
   "outputs": [],
   "source": [
    "from arcgis.gis import GIS\n",
    "from arcgis.geocoding import geocode\n",
    "from IPython.display import display\n",
    "from arcgis.features import FeatureSet, Feature"
   ]
  },
  {
   "cell_type": "code",
   "execution_count": null,
   "metadata": {},
   "outputs": [],
   "source": [
    "from arcgis.geoprocessing import import_toolbox"
   ]
  },
  {
   "cell_type": "markdown",
   "metadata": {},
   "source": [
    "### Create the GIS Object"
   ]
  },
  {
   "cell_type": "code",
   "execution_count": null,
   "metadata": {},
   "outputs": [],
   "source": [
    "gis = GIS(profile='agol_profile')"
   ]
  },
  {
   "cell_type": "markdown",
   "metadata": {},
   "source": [
    "### Find and Create a Geoprocessing Toolbox"
   ]
  },
  {
   "cell_type": "code",
   "execution_count": null,
   "metadata": {},
   "outputs": [],
   "source": [
    "toolbox_item = gis.content.search(\"viewshed owner:esri\", \n",
    "                                  item_type=\"geoprocessing toolbox\", \n",
    "                                  max_items=1, outside_org=True)[0]\n",
    "toolbox_item"
   ]
  },
  {
   "cell_type": "code",
   "execution_count": null,
   "metadata": {},
   "outputs": [],
   "source": [
    "tbx = import_toolbox(toolbox_item)"
   ]
  },
  {
   "cell_type": "markdown",
   "metadata": {},
   "source": [
    "<img src=\"./img/loadedgp.png\"  style=\"float:left\"> \n",
    "    <div style=\"position: relative; width:600px;\">\n",
    "         <ul>\n",
    "         <div id=\"spacer\" style=\"width: 30px; height: 100px; float:left; display:inline-block\"></div>\n",
    "            <li>Creates a <b>Toolbox</b> like object</li>\n",
    "        <li>Loads the help and tools into the toolbox</li>\n",
    "    <li>Each <b>Tool</b> appears as a Python Method</li>\n",
    "         </ul>  \n",
    "    \n",
    " </div>\n",
    "\n",
    "</img>"
   ]
  },
  {
   "cell_type": "markdown",
   "metadata": {
    "heading_collapsed": true
   },
   "source": [
    "### Examine the Tool's Help"
   ]
  },
  {
   "cell_type": "code",
   "execution_count": null,
   "metadata": {
    "hidden": true
   },
   "outputs": [],
   "source": [
    "help(tbx.viewshed)"
   ]
  },
  {
   "cell_type": "markdown",
   "metadata": {},
   "source": [
    "### Performing Analysis"
   ]
  },
  {
   "cell_type": "markdown",
   "metadata": {
    "heading_collapsed": true
   },
   "source": [
    "### Building an Interactive Map"
   ]
  },
  {
   "cell_type": "code",
   "execution_count": null,
   "metadata": {
    "hidden": true,
    "scrolled": true
   },
   "outputs": [],
   "source": [
    "map1 = gis.map(\"Athens, GA\")\n",
    "map1.extent = {'spatialReference': {'latestWkid': 3857, 'wkid': 102100},\n",
    " 'xmin': -9290187.628717396,\n",
    " 'ymin': 4020613.2826698595,\n",
    " 'xmax': -9281024.739951722,\n",
    " 'ymax': 4024435.1340841134}\n",
    "map1"
   ]
  },
  {
   "cell_type": "code",
   "execution_count": null,
   "metadata": {
    "hidden": true
   },
   "outputs": [],
   "source": [
    "def do_analysis(m, g):\n",
    "    map1.clear_graphics()\n",
    "    map1.remove_layers(map1.layers)\n",
    "    map1.draw(g, symbol={ \"type\": \"simple-marker\", \"style\": \"diamond\", \"color\": [230, 0, 0, 1] })\n",
    "    my_feature_set = FeatureSet([Feature(g)])\n",
    "    \n",
    "    # Pass the input location as a FeatureSet\n",
    "    print('performing analysis')\n",
    "    ret = tbx.viewshed(my_feature_set, 1000, dem_resolution='FINEST')\n",
    "    \n",
    "    # Render the resulting FeatureSet on the map using `draw()` method\n",
    "    print('adding results')\n",
    "    map1.add_layer(ret)\n",
    "    \n",
    "# Set the callback function that performs analysis. The `do_analysis` function is called whenever user clicks on the map.\n",
    "map1.on_click(do_analysis)"
   ]
  },
  {
   "cell_type": "markdown",
   "metadata": {
    "heading_collapsed": true
   },
   "source": [
    "## Results\n",
    "\n"
   ]
  },
  {
   "cell_type": "markdown",
   "metadata": {
    "hidden": true
   },
   "source": [
    "<img src=\"./img/map_clip_results.png\" />"
   ]
  }
 ],
 "metadata": {
  "kernelspec": {
   "display_name": "Python 3",
   "language": "python",
   "name": "python3"
  },
  "language_info": {
   "codemirror_mode": {
    "name": "ipython",
    "version": 3
   },
   "file_extension": ".py",
   "mimetype": "text/x-python",
   "name": "python",
   "nbconvert_exporter": "python",
   "pygments_lexer": "ipython3",
   "version": "3.6.6"
  }
 },
 "nbformat": 4,
 "nbformat_minor": 2
}
