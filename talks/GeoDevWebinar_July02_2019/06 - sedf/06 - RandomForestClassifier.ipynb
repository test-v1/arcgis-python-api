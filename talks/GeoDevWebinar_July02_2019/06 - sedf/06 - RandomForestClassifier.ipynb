{
 "cells": [
  {
   "cell_type": "markdown",
   "metadata": {},
   "source": [
    "# Predicting Seagrass Habitats with Machine Learning\n",
    "\n",
    "<img src=\"./img/vrf_teaser.png\" />"
   ]
  },
  {
   "cell_type": "markdown",
   "metadata": {},
   "source": [
    "The goals is to establish a relationship between ocean measurements at a given location and sea-grass occurrence using a supervised  machine learning method called random forest.  \n",
    "\n",
    "### About the Random Forest \n",
    "\n",
    "- Supervised learning algorithm\n",
    "- Random forest builds multiple decision trees and merges them together to get a better prediction\n"
   ]
  },
  {
   "cell_type": "markdown",
   "metadata": {},
   "source": [
    "## Seagrass Importance"
   ]
  },
  {
   "cell_type": "markdown",
   "metadata": {},
   "source": [
    "<img src=\"./imgs/seagrass.jpg\"/>"
   ]
  },
  {
   "cell_type": "markdown",
   "metadata": {},
   "source": [
    "Like rainforests, seagrasses are disappearing from the earth's surface. Seagrasses are underwater forests that provide food and shelter for a wide array of animals, including crabs, turtles, and birds (some of which are critical to local economies). "
   ]
  },
  {
   "cell_type": "markdown",
   "metadata": {},
   "source": [
    "## Data Preparation"
   ]
  },
  {
   "cell_type": "markdown",
   "metadata": {},
   "source": [
    "<img src=\"./imgs/combined.png\"/>"
   ]
  },
  {
   "cell_type": "markdown",
   "metadata": {},
   "source": [
    "### Load the Data"
   ]
  },
  {
   "cell_type": "markdown",
   "metadata": {},
   "source": [
    "- Use Spatially Enabled DataFrames to prepare the data for the model\n"
   ]
  },
  {
   "cell_type": "code",
   "execution_count": 1,
   "metadata": {},
   "outputs": [],
   "source": [
    "import pandas as pd\n",
    "from arcgis.features import FeatureLayer\n",
    "from arcgis.features import GeoAccessor, GeoSeriesAccessor"
   ]
  },
  {
   "cell_type": "code",
   "execution_count": 2,
   "metadata": {},
   "outputs": [
    {
     "data": {
      "text/html": [
       "<div>\n",
       "<style scoped>\n",
       "    .dataframe tbody tr th:only-of-type {\n",
       "        vertical-align: middle;\n",
       "    }\n",
       "\n",
       "    .dataframe tbody tr th {\n",
       "        vertical-align: top;\n",
       "    }\n",
       "\n",
       "    .dataframe thead th {\n",
       "        text-align: right;\n",
       "    }\n",
       "</style>\n",
       "<table border=\"1\" class=\"dataframe\">\n",
       "  <thead>\n",
       "    <tr style=\"text-align: right;\">\n",
       "      <th></th>\n",
       "      <th>CID</th>\n",
       "      <th>Join_Count</th>\n",
       "      <th>NameEMU</th>\n",
       "      <th>OBJECTID</th>\n",
       "      <th>Present</th>\n",
       "      <th>SHAPE</th>\n",
       "      <th>TARGET_FID</th>\n",
       "      <th>appO2</th>\n",
       "      <th>depth</th>\n",
       "      <th>dissO2</th>\n",
       "      <th>nitrate</th>\n",
       "      <th>percO2</th>\n",
       "      <th>phosphate</th>\n",
       "      <th>salinity</th>\n",
       "      <th>silicate</th>\n",
       "      <th>temp</th>\n",
       "    </tr>\n",
       "  </thead>\n",
       "  <tbody>\n",
       "    <tr>\n",
       "      <th>0</th>\n",
       "      <td>10</td>\n",
       "      <td>1</td>\n",
       "      <td>Epipelagic, Warm to Very Warm, Euhaline, Oxic,...</td>\n",
       "      <td>1</td>\n",
       "      <td>0</td>\n",
       "      <td>{\"x\": -9157126.894340137, \"y\": 3070014.1739909...</td>\n",
       "      <td>1</td>\n",
       "      <td>-0.097869</td>\n",
       "      <td>0</td>\n",
       "      <td>5.038187</td>\n",
       "      <td>0.503541</td>\n",
       "      <td>102.16810</td>\n",
       "      <td>0.070516</td>\n",
       "      <td>35.69495</td>\n",
       "      <td>3.878356</td>\n",
       "      <td>24.75329</td>\n",
       "    </tr>\n",
       "    <tr>\n",
       "      <th>1</th>\n",
       "      <td>10</td>\n",
       "      <td>1</td>\n",
       "      <td>Epipelagic, Warm to Very Warm, Euhaline, Oxic,...</td>\n",
       "      <td>2</td>\n",
       "      <td>0</td>\n",
       "      <td>{\"x\": -9036857.89479882, \"y\": 3463385.75717355...</td>\n",
       "      <td>2</td>\n",
       "      <td>0.051061</td>\n",
       "      <td>0</td>\n",
       "      <td>4.710738</td>\n",
       "      <td>0.836354</td>\n",
       "      <td>99.08915</td>\n",
       "      <td>0.124987</td>\n",
       "      <td>35.98500</td>\n",
       "      <td>1.521608</td>\n",
       "      <td>24.13740</td>\n",
       "    </tr>\n",
       "    <tr>\n",
       "      <th>2</th>\n",
       "      <td>10</td>\n",
       "      <td>1</td>\n",
       "      <td>Epipelagic, Warm to Very Warm, Euhaline, Oxic,...</td>\n",
       "      <td>3</td>\n",
       "      <td>1</td>\n",
       "      <td>{\"x\": -8937164.61534358, \"y\": 2953422.22280594...</td>\n",
       "      <td>3</td>\n",
       "      <td>1.941822</td>\n",
       "      <td>0</td>\n",
       "      <td>3.839985</td>\n",
       "      <td>15.172270</td>\n",
       "      <td>69.50264</td>\n",
       "      <td>1.032444</td>\n",
       "      <td>35.58104</td>\n",
       "      <td>10.742860</td>\n",
       "      <td>18.00565</td>\n",
       "    </tr>\n",
       "    <tr>\n",
       "      <th>3</th>\n",
       "      <td>10</td>\n",
       "      <td>1</td>\n",
       "      <td>Epipelagic, Warm to Very Warm, Euhaline, Oxic,...</td>\n",
       "      <td>4</td>\n",
       "      <td>1</td>\n",
       "      <td>{\"x\": -9117387.817445286, \"y\": 2823643.6009130...</td>\n",
       "      <td>4</td>\n",
       "      <td>1.972570</td>\n",
       "      <td>0</td>\n",
       "      <td>3.654587</td>\n",
       "      <td>14.109170</td>\n",
       "      <td>67.56322</td>\n",
       "      <td>0.936634</td>\n",
       "      <td>35.46936</td>\n",
       "      <td>9.925514</td>\n",
       "      <td>14.55408</td>\n",
       "    </tr>\n",
       "    <tr>\n",
       "      <th>4</th>\n",
       "      <td>10</td>\n",
       "      <td>1</td>\n",
       "      <td>Epipelagic, Warm to Very Warm, Euhaline, Oxic,...</td>\n",
       "      <td>5</td>\n",
       "      <td>0</td>\n",
       "      <td>{\"x\": -9107781.908575488, \"y\": 2819315.5718083...</td>\n",
       "      <td>5</td>\n",
       "      <td>2.000643</td>\n",
       "      <td>0</td>\n",
       "      <td>3.721700</td>\n",
       "      <td>14.746720</td>\n",
       "      <td>67.79740</td>\n",
       "      <td>0.980522</td>\n",
       "      <td>35.41380</td>\n",
       "      <td>10.737210</td>\n",
       "      <td>13.48950</td>\n",
       "    </tr>\n",
       "  </tbody>\n",
       "</table>\n",
       "</div>"
      ],
      "text/plain": [
       "   CID  Join_Count                                            NameEMU  \\\n",
       "0   10           1  Epipelagic, Warm to Very Warm, Euhaline, Oxic,...   \n",
       "1   10           1  Epipelagic, Warm to Very Warm, Euhaline, Oxic,...   \n",
       "2   10           1  Epipelagic, Warm to Very Warm, Euhaline, Oxic,...   \n",
       "3   10           1  Epipelagic, Warm to Very Warm, Euhaline, Oxic,...   \n",
       "4   10           1  Epipelagic, Warm to Very Warm, Euhaline, Oxic,...   \n",
       "\n",
       "   OBJECTID  Present                                              SHAPE  \\\n",
       "0         1        0  {\"x\": -9157126.894340137, \"y\": 3070014.1739909...   \n",
       "1         2        0  {\"x\": -9036857.89479882, \"y\": 3463385.75717355...   \n",
       "2         3        1  {\"x\": -8937164.61534358, \"y\": 2953422.22280594...   \n",
       "3         4        1  {\"x\": -9117387.817445286, \"y\": 2823643.6009130...   \n",
       "4         5        0  {\"x\": -9107781.908575488, \"y\": 2819315.5718083...   \n",
       "\n",
       "   TARGET_FID     appO2  depth    dissO2    nitrate     percO2  phosphate  \\\n",
       "0           1 -0.097869      0  5.038187   0.503541  102.16810   0.070516   \n",
       "1           2  0.051061      0  4.710738   0.836354   99.08915   0.124987   \n",
       "2           3  1.941822      0  3.839985  15.172270   69.50264   1.032444   \n",
       "3           4  1.972570      0  3.654587  14.109170   67.56322   0.936634   \n",
       "4           5  2.000643      0  3.721700  14.746720   67.79740   0.980522   \n",
       "\n",
       "   salinity   silicate      temp  \n",
       "0  35.69495   3.878356  24.75329  \n",
       "1  35.98500   1.521608  24.13740  \n",
       "2  35.58104  10.742860  18.00565  \n",
       "3  35.46936   9.925514  14.55408  \n",
       "4  35.41380  10.737210  13.48950  "
      ]
     },
     "execution_count": 2,
     "metadata": {},
     "output_type": "execute_result"
    }
   ],
   "source": [
    "url = (\"https://services3.arcgis.com/oZfKvdlWHN1MwS48/arc\"\n",
    "       \"gis/rest/services/MachineLearningSeagrass/FeatureServer/1\")\n",
    "fl = FeatureLayer(url)\n",
    "\n",
    "sdf = (\n",
    "    pd\n",
    "    .DataFrame\n",
    "    .spatial\n",
    "    .from_layer(fl)\n",
    ")\n",
    "sdf.head()"
   ]
  },
  {
   "cell_type": "markdown",
   "metadata": {},
   "source": [
    "### Obtain Columns of Interest"
   ]
  },
  {
   "cell_type": "code",
   "execution_count": 3,
   "metadata": {},
   "outputs": [
    {
     "data": {
      "text/plain": [
       "Index(['CID', 'JOIN_COUNT', 'NAMEEMU', 'OBJECTID', 'PRESENT', 'SHAPE',\n",
       "       'TARGET_FID', 'APPO2', 'DEPTH', 'DISSO2', 'NITRATE', 'PERCO2',\n",
       "       'PHOSPHATE', 'SALINITY', 'SILICATE', 'TEMP'],\n",
       "      dtype='object')"
      ]
     },
     "execution_count": 3,
     "metadata": {},
     "output_type": "execute_result"
    }
   ],
   "source": [
    "sdf.columns = [col.upper() for col in sdf.columns]\n",
    "sdf.columns"
   ]
  },
  {
   "cell_type": "code",
   "execution_count": 4,
   "metadata": {},
   "outputs": [
    {
     "data": {
      "text/html": [
       "<div>\n",
       "<style scoped>\n",
       "    .dataframe tbody tr th:only-of-type {\n",
       "        vertical-align: middle;\n",
       "    }\n",
       "\n",
       "    .dataframe tbody tr th {\n",
       "        vertical-align: top;\n",
       "    }\n",
       "\n",
       "    .dataframe thead th {\n",
       "        text-align: right;\n",
       "    }\n",
       "</style>\n",
       "<table border=\"1\" class=\"dataframe\">\n",
       "  <thead>\n",
       "    <tr style=\"text-align: right;\">\n",
       "      <th></th>\n",
       "      <th>DISSO2</th>\n",
       "      <th>NITRATE</th>\n",
       "      <th>PERCO2</th>\n",
       "      <th>PHOSPHATE</th>\n",
       "      <th>SALINITY</th>\n",
       "      <th>SILICATE</th>\n",
       "      <th>TEMP</th>\n",
       "      <th>NAMEEMU</th>\n",
       "      <th>PRESENT</th>\n",
       "      <th>SHAPE</th>\n",
       "    </tr>\n",
       "  </thead>\n",
       "  <tbody>\n",
       "    <tr>\n",
       "      <th>0</th>\n",
       "      <td>5.038187</td>\n",
       "      <td>0.503541</td>\n",
       "      <td>102.16810</td>\n",
       "      <td>0.070516</td>\n",
       "      <td>35.69495</td>\n",
       "      <td>3.878356</td>\n",
       "      <td>24.75329</td>\n",
       "      <td>Epipelagic, Warm to Very Warm, Euhaline, Oxic,...</td>\n",
       "      <td>0</td>\n",
       "      <td>{\"x\": -9157126.894340137, \"y\": 3070014.1739909...</td>\n",
       "    </tr>\n",
       "    <tr>\n",
       "      <th>1</th>\n",
       "      <td>4.710738</td>\n",
       "      <td>0.836354</td>\n",
       "      <td>99.08915</td>\n",
       "      <td>0.124987</td>\n",
       "      <td>35.98500</td>\n",
       "      <td>1.521608</td>\n",
       "      <td>24.13740</td>\n",
       "      <td>Epipelagic, Warm to Very Warm, Euhaline, Oxic,...</td>\n",
       "      <td>0</td>\n",
       "      <td>{\"x\": -9036857.89479882, \"y\": 3463385.75717355...</td>\n",
       "    </tr>\n",
       "  </tbody>\n",
       "</table>\n",
       "</div>"
      ],
      "text/plain": [
       "     DISSO2   NITRATE     PERCO2  PHOSPHATE  SALINITY  SILICATE      TEMP  \\\n",
       "0  5.038187  0.503541  102.16810   0.070516  35.69495  3.878356  24.75329   \n",
       "1  4.710738  0.836354   99.08915   0.124987  35.98500  1.521608  24.13740   \n",
       "\n",
       "                                             NAMEEMU  PRESENT  \\\n",
       "0  Epipelagic, Warm to Very Warm, Euhaline, Oxic,...        0   \n",
       "1  Epipelagic, Warm to Very Warm, Euhaline, Oxic,...        0   \n",
       "\n",
       "                                               SHAPE  \n",
       "0  {\"x\": -9157126.894340137, \"y\": 3070014.1739909...  \n",
       "1  {\"x\": -9036857.89479882, \"y\": 3463385.75717355...  "
      ]
     },
     "execution_count": 4,
     "metadata": {},
     "output_type": "execute_result"
    }
   ],
   "source": [
    "sdf_copy = sdf[['DISSO2', 'NITRATE', 'PERCO2','PHOSPHATE', \n",
    "                'SALINITY', 'SILICATE', 'TEMP', \n",
    "                'NAMEEMU', 'PRESENT', 'SHAPE']].copy()\n",
    "sdf_copy.head(2)"
   ]
  },
  {
   "cell_type": "markdown",
   "metadata": {},
   "source": [
    "### Convert Categorical Data to Numeric"
   ]
  },
  {
   "cell_type": "code",
   "execution_count": 5,
   "metadata": {},
   "outputs": [],
   "source": [
    "cat_variables = pd.get_dummies(sdf_copy['NAMEEMU'])\n",
    "sdf_copy.drop(\"NAMEEMU\", axis=1, inplace=True)"
   ]
  },
  {
   "cell_type": "code",
   "execution_count": 6,
   "metadata": {},
   "outputs": [],
   "source": [
    "sdf_copy = sdf_copy.join(cat_variables)"
   ]
  },
  {
   "cell_type": "code",
   "execution_count": 7,
   "metadata": {},
   "outputs": [],
   "source": [
    "new_names = ['C1', 'C2', 'C3']\n",
    "for  ind, name in enumerate(new_names):\n",
    "    sdf_copy.rename(\n",
    "        columns={sdf_copy.columns[len(sdf_copy.columns[:-3])+ind]:name},\n",
    "    inplace=True)"
   ]
  },
  {
   "cell_type": "markdown",
   "metadata": {},
   "source": [
    "### Evaluate Correlation Between Predictors\n",
    "\n",
    "- ignore the categorical values"
   ]
  },
  {
   "cell_type": "code",
   "execution_count": 53,
   "metadata": {},
   "outputs": [
    {
     "data": {
      "image/png": "[encoded data removed]",
      "text/plain": [
       "<Figure size 432x288 with 2 Axes>"
      ]
     },
     "metadata": {
      "needs_background": "light"
     },
     "output_type": "display_data"
    }
   ],
   "source": [
    "import seaborn as sns\n",
    "corr = sdf_copy.drop(sdf_copy.columns[-4:], \n",
    "                     axis = 1).astype('float64').corr()\n",
    "\n",
    "#Plot Correlation Matrix Between Prediction Variables\n",
    "ax = sns.heatmap(corr, cmap=sns.diverging_palette(220, 10, as_cmap=True),\n",
    "            annot = True, linecolor = 'k', linewidths = 1)"
   ]
  },
  {
   "cell_type": "markdown",
   "metadata": {},
   "source": [
    "### Create Training and Testing Data"
   ]
  },
  {
   "cell_type": "code",
   "execution_count": 8,
   "metadata": {},
   "outputs": [],
   "source": [
    "from sklearn.model_selection import train_test_split"
   ]
  },
  {
   "cell_type": "code",
   "execution_count": 9,
   "metadata": {},
   "outputs": [
    {
     "name": "stdout",
     "output_type": "stream",
     "text": [
      "Training Data Size = 10000\n",
      "Test Data Size = 90000\n"
     ]
    }
   ],
   "source": [
    "test, train = train_test_split(sdf_copy, test_size=0.1)\n",
    "indicator, _ = pd.factorize(train[\"PRESENT\"])\n",
    "print('Training Data Size = ' + str(train.shape[0]))\n",
    "print('Test Data Size = ' + str(test.shape[0]))"
   ]
  },
  {
   "cell_type": "markdown",
   "metadata": {},
   "source": [
    "## Perform Random Forest Classification"
   ]
  },
  {
   "cell_type": "markdown",
   "metadata": {},
   "source": [
    "### Create the Classifier"
   ]
  },
  {
   "cell_type": "code",
   "execution_count": 10,
   "metadata": {},
   "outputs": [],
   "source": [
    "predictVars = ['SALINITY', 'TEMP', 'PHOSPHATE', \n",
    "               'NITRATE', 'SILICATE', 'DISSO2', 'C1',\n",
    "              'C2', 'C3']\n",
    "#Name of Classification Variable\n",
    "classVar = ['PRESENT']"
   ]
  },
  {
   "cell_type": "code",
   "execution_count": 11,
   "metadata": {},
   "outputs": [],
   "source": [
    "from sklearn.ensemble import RandomForestClassifier"
   ]
  },
  {
   "cell_type": "code",
   "execution_count": 12,
   "metadata": {},
   "outputs": [
    {
     "data": {
      "text/plain": [
       "RandomForestClassifier(bootstrap=True, class_weight=None, criterion='gini',\n",
       "                       max_depth=None, max_features='auto', max_leaf_nodes=None,\n",
       "                       min_impurity_decrease=0.0, min_impurity_split=None,\n",
       "                       min_samples_leaf=1, min_samples_split=2,\n",
       "                       min_weight_fraction_leaf=0.0, n_estimators=500,\n",
       "                       n_jobs=None, oob_score=True, random_state=None,\n",
       "                       verbose=0, warm_start=False)"
      ]
     },
     "execution_count": 12,
     "metadata": {},
     "output_type": "execute_result"
    }
   ],
   "source": [
    "rfco = RandomForestClassifier(n_estimators=500, oob_score=True)\n",
    "rfco.fit(train[predictVars], indicator)"
   ]
  },
  {
   "cell_type": "markdown",
   "metadata": {},
   "source": [
    "### Plot Variable of Importance"
   ]
  },
  {
   "cell_type": "code",
   "execution_count": 13,
   "metadata": {},
   "outputs": [],
   "source": [
    "import numpy as np\n",
    "import matplotlib.pyplot as plt"
   ]
  },
  {
   "cell_type": "code",
   "execution_count": 14,
   "metadata": {},
   "outputs": [
    {
     "data": {
      "image/png": "[encoded data removed]",
      "text/plain": [
       "<Figure size 432x288 with 1 Axes>"
      ]
     },
     "metadata": {
      "needs_background": "light"
     },
     "output_type": "display_data"
    }
   ],
   "source": [
    "pos = np.arange(len(predictVars)) + .5\n",
    "imp_sorted = np.argsort(rfco.feature_importances_)\n",
    "sortedVars = [predictVars[i] for i in imp_sorted]\n",
    "plt.barh(pos, rfco.feature_importances_[imp_sorted], align='center')\n",
    "plt.yticks(pos, sortedVars)\n",
    "plt.xlabel('Relative Importance')\n",
    "plt.title('Variable Importance')\n",
    "plt.show()"
   ]
  },
  {
   "cell_type": "markdown",
   "metadata": {},
   "source": [
    "### Predict Seagrass Occurrence on the Test"
   ]
  },
  {
   "cell_type": "code",
   "execution_count": 15,
   "metadata": {},
   "outputs": [
    {
     "data": {
      "text/plain": [
       "array([0, 0, 1, ..., 0, 0, 0], dtype=int64)"
      ]
     },
     "execution_count": 15,
     "metadata": {},
     "output_type": "execute_result"
    }
   ],
   "source": [
    "seagrass_pred = rfco.predict(test[predictVars])\n",
    "seagrass_pred"
   ]
  },
  {
   "cell_type": "markdown",
   "metadata": {},
   "source": [
    "### Calculate Prediction Accuracy"
   ]
  },
  {
   "cell_type": "code",
   "execution_count": 16,
   "metadata": {},
   "outputs": [
    {
     "data": {
      "text/plain": [
       "array([0, 0, 0, ..., 0, 0, 1], dtype=int64)"
      ]
     },
     "execution_count": 16,
     "metadata": {},
     "output_type": "execute_result"
    }
   ],
   "source": [
    "test_seagrass = test[\"PRESENT\"].values\n",
    "test_seagrass = test_seagrass.flatten()\n",
    "test_seagrass"
   ]
  },
  {
   "cell_type": "markdown",
   "metadata": {},
   "source": [
    "### Calculate Estimation Error"
   ]
  },
  {
   "cell_type": "code",
   "execution_count": 17,
   "metadata": {},
   "outputs": [
    {
     "name": "stdout",
     "output_type": "stream",
     "text": [
      "Accuracy = 99.74111111111111 % \n",
      "Locations with Seagrass = 27748\n",
      "Predicted Locations with Seagrass = 27515\n"
     ]
    }
   ],
   "source": [
    "error = np.sum(test_seagrass - seagrass_pred)/len(seagrass_pred) * 100\n",
    "print('Accuracy = ' + str(100 - np.abs(error)) + ' % ')\n",
    "print('Locations with Seagrass = ' + str(len(np.where(test_seagrass==1)[0])) )\n",
    "print('Predicted Locations with Seagrass = ' + str(len(np.where(seagrass_pred==1)[0])))"
   ]
  }
 ],
 "metadata": {
  "kernelspec": {
   "display_name": "Python 3",
   "language": "python",
   "name": "python3"
  },
  "language_info": {
   "codemirror_mode": {
    "name": "ipython",
    "version": 3
   },
   "file_extension": ".py",
   "mimetype": "text/x-python",
   "name": "python",
   "nbconvert_exporter": "python",
   "pygments_lexer": "ipython3",
   "version": "3.6.6"
  }
 },
 "nbformat": 4,
 "nbformat_minor": 2
}
