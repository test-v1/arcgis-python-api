{
 "cells": [
  {
   "cell_type": "markdown",
   "metadata": {},
   "source": [
    "# Spatially Enabled Data Frames"
   ]
  },
  {
   "cell_type": "markdown",
   "metadata": {},
   "source": [
    "<img src=\"./img/title_image.jpg\"/>"
   ]
  },
  {
   "cell_type": "markdown",
   "metadata": {},
   "source": [
    "## Overview "
   ]
  },
  {
   "cell_type": "markdown",
   "metadata": {},
   "source": [
    "- Pandas data frames \n",
    "- Custom namespace on Series and DataFrame objects\n",
    "    + `geom` on Series\n",
    "    \n",
    "    ```python\n",
    "    >>> df['SHAPE'].geom.area\n",
    "    ```\n",
    "    \n",
    "    + `spatial` on the the DataFrame\n",
    "    \n",
    "    ```python\n",
    "    >>> df.spatial.project(4326)\n",
    "    ```"
   ]
  },
  {
   "cell_type": "markdown",
   "metadata": {},
   "source": [
    "- Cross platform spatial analysis\n",
    "    + Mac, Linux, and Windows\n",
    "\n",
    "- Multi-geometry engine support\n",
    "\n",
    "    + Esri Arcpy's Engine\n",
    "    + Shapely/Geos\n",
    "    \n",
    "- Read/write data\n",
    "\n",
    "    + Fiona, shapefile, and arcpy"
   ]
  },
  {
   "cell_type": "markdown",
   "metadata": {},
   "source": [
    "## Getting Started"
   ]
  },
  {
   "cell_type": "markdown",
   "metadata": {},
   "source": [
    "It starts with two imports"
   ]
  },
  {
   "cell_type": "code",
   "execution_count": null,
   "metadata": {},
   "outputs": [],
   "source": [
    "import pandas as pd\n",
    "from arcgis.features import GeoAccessor, GeoSeriesAccessor"
   ]
  },
  {
   "cell_type": "markdown",
   "metadata": {},
   "source": [
    "- Loads Pandas\n",
    "- The `GeoAccessor` and `GeoSeriesAccessor` load the namespaces into Pandas"
   ]
  },
  {
   "cell_type": "markdown",
   "metadata": {},
   "source": [
    "### Data I/O"
   ]
  },
  {
   "cell_type": "markdown",
   "metadata": {},
   "source": [
    "#### Consumption\n",
    "\n",
    "- Feature Layers\n",
    "- Data Frames\n",
    "- Feature classes"
   ]
  },
  {
   "cell_type": "markdown",
   "metadata": {},
   "source": [
    "```python\n",
    "\n",
    "    from arcgis.features import FeatureLayer\n",
    "    fl = FeatureLayer((\"https://services2.arcgis.com/zPFLSOZ5HzUzzTQb/arcgis\"\n",
    "                       \"/rest/services/CensusBlockGroup/FeatureServer/0\"))\n",
    "    sdf1 = pd.DataFrame.spatial.from_layer(fl)\n",
    "    sdf2 = pd.DataFrame.spatial.from_featureclass(\"./data/historic_traffic.shp\")\n",
    "    df_earthquakes = pd.read_csv(\"https://earthquake.usgs.gov/earthquakes/feed/v1.0/summary/all_hour.csv\")\n",
    "    sdf3 = pd.DataFrame.spatial.from_xy(df=df_earthquakes, \n",
    "                                        x_column=\"longitude\", \n",
    "                                        y_column=\"latitude\", \n",
    "                                        sr=4326)\n",
    "```"
   ]
  },
  {
   "cell_type": "markdown",
   "metadata": {},
   "source": [
    "#### Persistence of Data\n",
    "\n",
    "- Tables\n",
    "- Feature Classes\n",
    "- Services"
   ]
  },
  {
   "cell_type": "markdown",
   "metadata": {},
   "source": [
    "```python\n",
    "    item = gis.content.import_data(df=sdf1, title=\"CensusBlockGroup\")\n",
    "    sdf1.spatial.to_featureclass(location=\"./data/stage.gdb/census\")\n",
    "```"
   ]
  },
  {
   "cell_type": "markdown",
   "metadata": {},
   "source": [
    "## Mapping"
   ]
  },
  {
   "cell_type": "markdown",
   "metadata": {},
   "source": [
    "- Provides a rich visualization of data\n",
    "- Data does not have to exist on an Enterprise\n",
    "- Map both local and service data"
   ]
  },
  {
   "cell_type": "markdown",
   "metadata": {},
   "source": [
    "### Simple Rendering of Data"
   ]
  },
  {
   "cell_type": "markdown",
   "metadata": {},
   "source": [
    "- Simple renders can be circles, squares, solid colors, etc...\n",
    "- Single color only"
   ]
  },
  {
   "cell_type": "code",
   "execution_count": null,
   "metadata": {},
   "outputs": [],
   "source": [
    "from arcgis.gis import GIS\n",
    "gis = GIS(profile='agol_profile', verify_cert=False)"
   ]
  },
  {
   "cell_type": "code",
   "execution_count": null,
   "metadata": {},
   "outputs": [],
   "source": [
    "first_map = gis.map('New York, NY')\n",
    "first_map.basemap = 'streets'\n",
    "first_map"
   ]
  },
  {
   "cell_type": "code",
   "execution_count": null,
   "metadata": {
    "scrolled": true
   },
   "outputs": [],
   "source": [
    "item = gis.content.get(\"85d0ca4ea1ca4b9abf0c51b9bd34de2e\")\n",
    "flayer = item.layers[0]\n",
    "df = flayer.query(where=\"AGE_45_54 < 1500\", as_df=True)"
   ]
  },
  {
   "cell_type": "code",
   "execution_count": null,
   "metadata": {},
   "outputs": [],
   "source": [
    "df.spatial.plot(map_widget=first_map)"
   ]
  },
  {
   "cell_type": "markdown",
   "metadata": {},
   "source": [
    "### Advanced Simple Rendering\n"
   ]
  },
  {
   "cell_type": "code",
   "execution_count": null,
   "metadata": {
    "scrolled": true
   },
   "outputs": [],
   "source": [
    "m2 = gis.map('United States')\n",
    "m2.zoom = 3\n",
    "m2"
   ]
  },
  {
   "cell_type": "code",
   "execution_count": null,
   "metadata": {},
   "outputs": [],
   "source": [
    "m2.center = [39,-98]\n",
    "df.spatial.plot(map_widget=m2,\n",
    "            symbol_type='simple',\n",
    "            symbol_style='d', # d - for diamonds\n",
    "            colors='Reds_r',\n",
    "            cstep=10,\n",
    "            outline_color='Blues',\n",
    "            marker_size=10)"
   ]
  },
  {
   "cell_type": "markdown",
   "metadata": {},
   "source": [
    "### Class Break Renderer"
   ]
  },
  {
   "cell_type": "code",
   "execution_count": null,
   "metadata": {},
   "outputs": [],
   "source": [
    "m3 = gis.map('Reno, NV', zoomlevel=4)\n",
    "m3.center = [39,-98]\n",
    "m3"
   ]
  },
  {
   "cell_type": "code",
   "execution_count": null,
   "metadata": {},
   "outputs": [],
   "source": [
    "df.spatial.plot(map_widget = m3,\n",
    "                renderer_type='u', # specify the unique value renderer using its notation 'u'\n",
    "                col='ST'  # column to get unique values from\n",
    "               )"
   ]
  },
  {
   "cell_type": "markdown",
   "metadata": {},
   "source": [
    "### Class Break Renderer\n"
   ]
  },
  {
   "cell_type": "code",
   "execution_count": null,
   "metadata": {},
   "outputs": [],
   "source": [
    "m4 = gis.map('Reno, NV', zoomlevel=4)\n",
    "m4.center = [39,-98]\n",
    "m4"
   ]
  },
  {
   "cell_type": "code",
   "execution_count": null,
   "metadata": {},
   "outputs": [],
   "source": [
    "df.spatial.plot(map_widget=m4,\n",
    "               renderer_type='c',  # for class breaks renderer\n",
    "               method='esriClassifyNaturalBreaks',  # classification algorithm\n",
    "               class_count=20,  # choose the number of classes\n",
    "               col='POPULATION',  # numeric column to classify\n",
    "               cmap='gnuplot2_r',  # color map to pick colors from for each class\n",
    "               alpha=1  # specify opacity\n",
    "               )"
   ]
  },
  {
   "cell_type": "code",
   "execution_count": null,
   "metadata": {},
   "outputs": [],
   "source": [
    "m4.legend = True"
   ]
  },
  {
   "cell_type": "markdown",
   "metadata": {},
   "source": [
    "### Rendering Polygon Example\n"
   ]
  },
  {
   "cell_type": "code",
   "execution_count": null,
   "metadata": {},
   "outputs": [],
   "source": [
    "from arcgis.features import FeatureLayer\n",
    "fl = FeatureLayer(\"https://services.arcgis.com/P3ePLMYs2RVChkJx/arcgis/rest/services/USA_Counties_Generalized/FeatureServer/0\")\n",
    "#(\"https://sampleserver6.arcgisonline.com/arcgis/rest/services/Census/MapServer/2\")\n",
    "county_sdf = fl.query(\"STATE_NAME='Washington'\", out_sr=4326, as_df=True)\n",
    "county_sdf.head()"
   ]
  },
  {
   "cell_type": "code",
   "execution_count": null,
   "metadata": {},
   "outputs": [],
   "source": [
    "m5 = gis.map('Seattle, WA', zoomlevel=6)\n",
    "m5.basemap = 'dark-gray-vector'\n",
    "m5"
   ]
  },
  {
   "cell_type": "code",
   "execution_count": null,
   "metadata": {},
   "outputs": [],
   "source": [
    "county_sdf.spatial.plot(map_widget=m5,\n",
    "                        renderer_type='c',  \n",
    "                        method='esriClassifyNaturalBreaks',  \n",
    "                        class_count=7,  \n",
    "                        col='AGE_20_24', \n",
    "                        cmap='RdPu',  \n",
    "                        alpha=0.8,\n",
    "                        line_width=.25)"
   ]
  },
  {
   "cell_type": "markdown",
   "metadata": {
    "heading_collapsed": true
   },
   "source": [
    "#### Help Functions\n",
    "\n",
    "- How do we know what colormaps to use?"
   ]
  },
  {
   "cell_type": "code",
   "execution_count": null,
   "metadata": {
    "hidden": true
   },
   "outputs": [],
   "source": [
    "from arcgis.mapping import display_colormaps\n",
    "display_colormaps()"
   ]
  },
  {
   "cell_type": "markdown",
   "metadata": {
    "heading_collapsed": true
   },
   "source": [
    "## Spatial Index"
   ]
  },
  {
   "cell_type": "markdown",
   "metadata": {
    "hidden": true
   },
   "source": [
    "- Quickly find spatial locations \n",
    "    + generalized locations\n",
    "- Based on Minimum bounding rectangles"
   ]
  },
  {
   "cell_type": "markdown",
   "metadata": {
    "hidden": true
   },
   "source": [
    "### Index Visualized"
   ]
  },
  {
   "cell_type": "markdown",
   "metadata": {
    "hidden": true
   },
   "source": [
    "<img src=\"./img/spatial_index_viz.png\" />"
   ]
  },
  {
   "cell_type": "markdown",
   "metadata": {
    "hidden": true
   },
   "source": [
    "### Spatial Index Example"
   ]
  },
  {
   "cell_type": "code",
   "execution_count": null,
   "metadata": {
    "hidden": true,
    "scrolled": true
   },
   "outputs": [],
   "source": [
    "item = gis.content.get(\"85d0ca4ea1ca4b9abf0c51b9bd34de2e\")\n",
    "item"
   ]
  },
  {
   "cell_type": "code",
   "execution_count": null,
   "metadata": {
    "hidden": true
   },
   "outputs": [],
   "source": [
    "sdf = item.layers[0].query(as_df=True, out_sr=4326) # Major US Cities"
   ]
  },
  {
   "cell_type": "code",
   "execution_count": null,
   "metadata": {
    "hidden": true
   },
   "outputs": [],
   "source": [
    "index = sdf.spatial.sindex(stype='quadtree')"
   ]
  },
  {
   "cell_type": "code",
   "execution_count": null,
   "metadata": {
    "hidden": true
   },
   "outputs": [],
   "source": [
    "nj_cities = index.intersect((-75.55956796790353, 38.928522146813044, \n",
    "                             -73.9024505439044, 41.35763612214295))"
   ]
  },
  {
   "cell_type": "code",
   "execution_count": null,
   "metadata": {
    "hidden": true
   },
   "outputs": [],
   "source": [
    "m6 = gis.map(\"New Jersey\")\n",
    "m6"
   ]
  },
  {
   "cell_type": "code",
   "execution_count": null,
   "metadata": {
    "hidden": true
   },
   "outputs": [],
   "source": [
    "sdf.iloc[nj_cities].spatial.plot(m6)"
   ]
  },
  {
   "cell_type": "markdown",
   "metadata": {
    "hidden": true
   },
   "source": [
    "#### Notice the Following"
   ]
  },
  {
   "cell_type": "markdown",
   "metadata": {
    "hidden": true
   },
   "source": [
    "- The bounding box returns locations outside of New Jersey\n",
    "    + This means the the selction by location is **generalized**\n",
    "    "
   ]
  },
  {
   "cell_type": "markdown",
   "metadata": {},
   "source": [
    "## Spatial Analysis"
   ]
  },
  {
   "cell_type": "markdown",
   "metadata": {},
   "source": [
    "<img src=\"./img/analysis_china.jpg\"/>"
   ]
  },
  {
   "cell_type": "markdown",
   "metadata": {},
   "source": [
    "- We have data, but how to we gain insights into the data?\n",
    "- Python API provides a wealth of vector based analytics"
   ]
  },
  {
   "cell_type": "markdown",
   "metadata": {},
   "source": [
    "### Using Geoprocessing Tools"
   ]
  },
  {
   "cell_type": "markdown",
   "metadata": {},
   "source": [
    "- The work horse of analysis\n",
    "- Service provide tools not available in the standard libary"
   ]
  },
  {
   "cell_type": "code",
   "execution_count": null,
   "metadata": {},
   "outputs": [],
   "source": [
    "from arcgis import create_viewshed\n",
    "sub_sdf = sdf.iloc[[2981, 2982, 2983, 2984]]"
   ]
  },
  {
   "cell_type": "code",
   "execution_count": null,
   "metadata": {},
   "outputs": [],
   "source": [
    "vs = create_viewshed(input_layer=sub_sdf.spatial.to_feature_collection(), \n",
    "                     maximum_distance=20, \n",
    "                     max_distance_units=\"Miles\")"
   ]
  },
  {
   "cell_type": "code",
   "execution_count": null,
   "metadata": {},
   "outputs": [],
   "source": [
    "m7 = gis.map('South Charleston, West Virginia', zoomlevel=11)\n",
    "m7.basemap = 'dark-gray-vector'\n",
    "m7"
   ]
  },
  {
   "cell_type": "code",
   "execution_count": null,
   "metadata": {},
   "outputs": [],
   "source": [
    "m7.add_layer(vs)\n",
    "sub_sdf.spatial.plot(m7,\n",
    "                    symbol_type='simple',\n",
    "                    symbol_style='d', # d - for diamonds\n",
    "                    colors='Reds_r',\n",
    "                    cstep=20,\n",
    "                    outline_color='Blues',\n",
    "                    marker_size=20)"
   ]
  },
  {
   "cell_type": "markdown",
   "metadata": {},
   "source": [
    "### Using GeoEnrichment "
   ]
  },
  {
   "cell_type": "markdown",
   "metadata": {},
   "source": [
    "<img src=\"./img/enrichment_talk.jpeg\"/>\n",
    "\n",
    "- Provides insights into a location or area\n",
    "- Uses credits\n",
    "- Driven heavily on SeDF"
   ]
  },
  {
   "cell_type": "code",
   "execution_count": null,
   "metadata": {},
   "outputs": [],
   "source": [
    "from arcgis.geoenrichment import enrich\n",
    "enrich_df = enrich(study_areas=sub_sdf, data_collections=['Age'] )\n",
    "enrich_df.head()"
   ]
  },
  {
   "cell_type": "code",
   "execution_count": null,
   "metadata": {},
   "outputs": [],
   "source": [
    "m8 = gis.map('South Charleston, West Virginia', zoomlevel=11)\n",
    "m8.basemap = 'dark-gray'\n",
    "m8"
   ]
  },
  {
   "cell_type": "code",
   "execution_count": null,
   "metadata": {},
   "outputs": [],
   "source": [
    "enrich_df.spatial.plot(m8)"
   ]
  },
  {
   "cell_type": "markdown",
   "metadata": {},
   "source": [
    "### On to Custom Analysis"
   ]
  }
 ],
 "metadata": {
  "kernelspec": {
   "display_name": "Python 3",
   "language": "python",
   "name": "python3"
  },
  "language_info": {
   "codemirror_mode": {
    "name": "ipython",
    "version": 3
   },
   "file_extension": ".py",
   "mimetype": "text/x-python",
   "name": "python",
   "nbconvert_exporter": "python",
   "pygments_lexer": "ipython3",
   "version": "3.6.6"
  }
 },
 "nbformat": 4,
 "nbformat_minor": 2
}
