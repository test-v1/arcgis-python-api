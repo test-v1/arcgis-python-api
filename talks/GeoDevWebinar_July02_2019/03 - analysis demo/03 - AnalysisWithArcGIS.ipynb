{
 "cells": [
  {
   "cell_type": "markdown",
   "metadata": {},
   "source": [
    "# Examining Political Donations"
   ]
  },
  {
   "cell_type": "code",
   "execution_count": null,
   "metadata": {},
   "outputs": [],
   "source": [
    "from arcgis.gis import GIS\n",
    "from IPython.display import display\n",
    "import pandas as pd"
   ]
  },
  {
   "cell_type": "code",
   "execution_count": null,
   "metadata": {},
   "outputs": [],
   "source": [
    "gis = GIS(profile='agol_profile')"
   ]
  },
  {
   "cell_type": "markdown",
   "metadata": {},
   "source": [
    "### Access and Geocode Address Data"
   ]
  },
  {
   "cell_type": "code",
   "execution_count": null,
   "metadata": {},
   "outputs": [],
   "source": [
    "voter_file = gis.content.get(\"57894e2fb17b47b08c2608887a8e4897\")\n",
    "csv_file = voter_file.download(save_path=r\"c:\\temp\", file_name=\"address.csv\" )\n",
    "df = pd.read_csv(csv_file, encoding=\"ISO-8859-1\")\n",
    "df.head()"
   ]
  },
  {
   "cell_type": "code",
   "execution_count": null,
   "metadata": {},
   "outputs": [],
   "source": [
    "geocoded_fc = gis.content.import_data(df=df)\n",
    "geocoded_fc"
   ]
  },
  {
   "cell_type": "code",
   "execution_count": null,
   "metadata": {},
   "outputs": [],
   "source": [
    "gc_map = gis.map(\"Maryland\")\n",
    "gc_map.extent = {'spatialReference': {'latestWkid': 3857, 'wkid': 102100},\n",
    "                 'xmin': -8586268.28378512,\n",
    "                 'ymin': 4733599.9383514235,\n",
    "                 'xmax': -8511665.744178887,\n",
    "                 'ymax': 4764174.749665453}\n",
    "gc_map"
   ]
  },
  {
   "cell_type": "code",
   "execution_count": null,
   "metadata": {},
   "outputs": [],
   "source": [
    "gc_map.add_layer(geocoded_fc)"
   ]
  },
  {
   "cell_type": "markdown",
   "metadata": {},
   "source": [
    "### Access Census Data"
   ]
  },
  {
   "cell_type": "code",
   "execution_count": null,
   "metadata": {
    "scrolled": true
   },
   "outputs": [],
   "source": [
    "item = gis.content.get(\"2cb6e7dfc87047ccaa38f59d955d907b\")\n",
    "item"
   ]
  },
  {
   "cell_type": "code",
   "execution_count": null,
   "metadata": {},
   "outputs": [],
   "source": [
    "sdf = item.layers[0].query(\"CNTY2010 = '24027'\", as_df=True)\n",
    "sdf.head()"
   ]
  },
  {
   "cell_type": "code",
   "execution_count": null,
   "metadata": {},
   "outputs": [],
   "source": [
    "sdf.spatial.plot()"
   ]
  },
  {
   "cell_type": "markdown",
   "metadata": {},
   "source": [
    "### Summarize Locations within Polygons"
   ]
  },
  {
   "cell_type": "code",
   "execution_count": null,
   "metadata": {},
   "outputs": [],
   "source": [
    "from arcgis.features.summarize_data import summarize_within"
   ]
  },
  {
   "cell_type": "code",
   "execution_count": null,
   "metadata": {},
   "outputs": [],
   "source": [
    "result = summarize_within(sum_within_layer=sdf.spatial.to_feature_collection(), output_name=\"SummaryWithinOutput5\",\n",
    "                          summary_layer=geocoded_fc, sum_shape=True, summary_fields=[\"Donate SUM\"])"
   ]
  },
  {
   "cell_type": "code",
   "execution_count": null,
   "metadata": {},
   "outputs": [],
   "source": [
    "result"
   ]
  },
  {
   "cell_type": "code",
   "execution_count": null,
   "metadata": {},
   "outputs": [],
   "source": [
    "m4 = gis.map()\n",
    "m4.extent = result.extent\n",
    "m4.basemap = 'dark-gray'\n",
    "m4"
   ]
  },
  {
   "cell_type": "code",
   "execution_count": null,
   "metadata": {},
   "outputs": [],
   "source": [
    "m4.add_layer(result)"
   ]
  },
  {
   "cell_type": "markdown",
   "metadata": {},
   "source": [
    "### Enrich Data to Locate More Information"
   ]
  },
  {
   "cell_type": "markdown",
   "metadata": {},
   "source": [
    "- use `enrich` to load the Age data"
   ]
  },
  {
   "cell_type": "code",
   "execution_count": null,
   "metadata": {},
   "outputs": [],
   "source": [
    "from arcgis.geoenrichment import *"
   ]
  },
  {
   "cell_type": "code",
   "execution_count": null,
   "metadata": {},
   "outputs": [],
   "source": [
    "usa = Country.get('United States')\n",
    "df = usa.data_collections\n",
    "df.loc['Age']['analysisVariable'].unique()"
   ]
  },
  {
   "cell_type": "code",
   "execution_count": null,
   "metadata": {},
   "outputs": [],
   "source": [
    "count_sdf = result.layers[0].query(as_df=True)\n",
    "count_sdf.head()"
   ]
  },
  {
   "cell_type": "code",
   "execution_count": null,
   "metadata": {},
   "outputs": [],
   "source": [
    "enrich_sdf = enrich(study_areas=count_sdf, data_collections=['Age'])\n",
    "enrich_sdf.head()"
   ]
  },
  {
   "cell_type": "markdown",
   "metadata": {},
   "source": [
    "### Find the Dollar Raised Per Person"
   ]
  },
  {
   "cell_type": "markdown",
   "metadata": {},
   "source": [
    "#### Summarize the Total Population"
   ]
  },
  {
   "cell_type": "code",
   "execution_count": null,
   "metadata": {},
   "outputs": [],
   "source": [
    "cols = [col for col in enrich_sdf.columns if (col.find(\"FEM\") > -1 or col.find(\"MALE\") > -1)]\n",
    "enrich_sdf['TOTAL_POP'] = enrich_sdf[cols].sum(axis=1)"
   ]
  },
  {
   "cell_type": "markdown",
   "metadata": {},
   "source": [
    "#### Clean up the Data"
   ]
  },
  {
   "cell_type": "code",
   "execution_count": null,
   "metadata": {},
   "outputs": [],
   "source": [
    "enrich_sdf[\"SUM_Donate\"] = (enrich_sdf[\"SUM_Donate\"]\n",
    "                            .replace('NaN', 0)\n",
    "                            .astype(int))"
   ]
  },
  {
   "cell_type": "markdown",
   "metadata": {},
   "source": [
    "#### Calculate Donation Dollars Per Person"
   ]
  },
  {
   "cell_type": "code",
   "execution_count": null,
   "metadata": {},
   "outputs": [],
   "source": [
    "enrich_sdf[\"DOLLARPERPERSON\"] = enrich_sdf['SUM_Donate'] / enrich_sdf['TOTAL_POP']\n",
    "q = enrich_sdf[\"DOLLARPERPERSON\"] > 0\n",
    "target_tracts = enrich_sdf[q].copy().reset_index(drop=True)"
   ]
  },
  {
   "cell_type": "code",
   "execution_count": null,
   "metadata": {},
   "outputs": [],
   "source": [
    "m3 = gis.map(\"Maryland\")\n",
    "m3.basemap = 'dark-gray'\n",
    "m3"
   ]
  },
  {
   "cell_type": "code",
   "execution_count": null,
   "metadata": {},
   "outputs": [],
   "source": [
    "m3.extent = target_tracts.spatial.full_extent\n",
    "target_tracts.spatial.plot(map_widget=m3,\n",
    "                           renderer_type='c',  # for class breaks renderer\n",
    "                           method='esriClassifyNaturalBreaks',  # classification algorithm\n",
    "                           class_count=10,  # choose the number of classes\n",
    "                           col='DOLLARPERPERSON',  # numeric column to classify\n",
    "                           cmap='prism_r',  # color map to pick colors from for each class\n",
    "                           alpha=0.4)"
   ]
  },
  {
   "cell_type": "markdown",
   "metadata": {},
   "source": [
    "### Generate Age Profile from Donations"
   ]
  },
  {
   "cell_type": "markdown",
   "metadata": {},
   "source": [
    "- Use matplotlib to display data in a visual way"
   ]
  },
  {
   "cell_type": "markdown",
   "metadata": {
    "heading_collapsed": true
   },
   "source": [
    "#### Define the Pyramid"
   ]
  },
  {
   "cell_type": "code",
   "execution_count": null,
   "metadata": {
    "hidden": true
   },
   "outputs": [],
   "source": [
    "def age_pyramid(df):\n",
    "    import warnings\n",
    "    import seaborn as sns\n",
    "    import matplotlib.pyplot as plt\n",
    "\n",
    "    %matplotlib inline\n",
    "    warnings.simplefilter(action='ignore', category=FutureWarning)\n",
    "    pd.options.mode.chained_assignment = None \n",
    "    plt.style.use('ggplot')\n",
    "\n",
    "    df = df[[x for x in df.columns if 'MALE' in x or 'FEM' in x]]\n",
    "    sf = pd.DataFrame(df.sum())\n",
    "    age = sf.index.str.extract('(\\d+)').astype('int64')\n",
    "    f = sf[sf.index.str.startswith('FEM')]\n",
    "    m = sf[sf.index.str.startswith('MALE')]\n",
    "    sf = sf.reset_index(drop = True)\n",
    "    f = f.reset_index(drop = True)\n",
    "    m = m.reset_index(drop = True)\n",
    "    sf['age'] = age\n",
    "    f[\"age\"] = age\n",
    "    m[\"age\"] = age\n",
    "    f = f.sort_values(by='age', ascending=False).set_index('age')\n",
    "    m = m.sort_values(by='age', ascending=False).set_index('age')\n",
    "    \n",
    "\n",
    "    popdf = pd.concat([f, m], axis=1)\n",
    "    popdf.columns = ['F', 'M']\n",
    "    popdf['agelabel'] = popdf.index.map(str) + ' - ' + (popdf.index+4).map(str)\n",
    "    popdf.M = -popdf.M\n",
    "    \n",
    "    sns.barplot(x=\"F\", y=\"agelabel\", color=\"#CC6699\", label=\"Female\", data=popdf, edgecolor='none')\n",
    "    sns.barplot(x=\"M\",  y=\"agelabel\", color=\"#008AB8\", label=\"Male\",   data=popdf,  edgecolor='none')\n",
    "    plt.ylabel('Age group')\n",
    "    plt.xlabel('Number of people');\n",
    "    return plt;"
   ]
  },
  {
   "cell_type": "markdown",
   "metadata": {},
   "source": [
    "#### Generate the Age Pyramid for All Donations"
   ]
  },
  {
   "cell_type": "code",
   "execution_count": null,
   "metadata": {},
   "outputs": [],
   "source": [
    "age_pyramid(target_tracts)"
   ]
  },
  {
   "cell_type": "markdown",
   "metadata": {},
   "source": [
    "#### Generate the Age Pyramid for Top Grossing Areas"
   ]
  },
  {
   "cell_type": "markdown",
   "metadata": {},
   "source": [
    "- The age population skews younger than the donation as a whole"
   ]
  },
  {
   "cell_type": "code",
   "execution_count": null,
   "metadata": {},
   "outputs": [],
   "source": [
    "age_pyramid(target_tracts[target_tracts.DOLLARPERPERSON > 4].copy())"
   ]
  }
 ],
 "metadata": {
  "kernelspec": {
   "display_name": "Python 3",
   "language": "python",
   "name": "python3"
  },
  "language_info": {
   "codemirror_mode": {
    "name": "ipython",
    "version": 3
   },
   "file_extension": ".py",
   "mimetype": "text/x-python",
   "name": "python",
   "nbconvert_exporter": "python",
   "pygments_lexer": "ipython3",
   "version": "3.6.6"
  }
 },
 "nbformat": 4,
 "nbformat_minor": 2
}
