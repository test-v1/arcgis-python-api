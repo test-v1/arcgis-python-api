{
 "cells": [
  {
   "cell_type": "markdown",
   "metadata": {},
   "source": [
    "# The GIS Module"
   ]
  },
  {
   "cell_type": "markdown",
   "metadata": {},
   "source": [
    "# Connecting to GIS"
   ]
  },
  {
   "cell_type": "code",
   "execution_count": 1,
   "metadata": {},
   "outputs": [],
   "source": [
    "from arcgis.gis import GIS"
   ]
  },
  {
   "cell_type": "code",
   "execution_count": 2,
   "metadata": {},
   "outputs": [],
   "source": [
    "online = GIS()"
   ]
  },
  {
   "cell_type": "code",
   "execution_count": 3,
   "metadata": {},
   "outputs": [
    {
     "name": "stdout",
     "output_type": "stream",
     "text": [
      "Enter password: ········\n"
     ]
    }
   ],
   "source": [
    "gis = GIS(username=\"DavidJVitale\")"
   ]
  },
  {
   "cell_type": "code",
   "execution_count": 5,
   "metadata": {},
   "outputs": [
    {
     "name": "stdout",
     "output_type": "stream",
     "text": [
      "Enter password: ········\n"
     ]
    }
   ],
   "source": [
    "enterprise = GIS(\"https://pythonapi.playground.esri.com/portal\", \n",
    "                 \"portaladmin\")"
   ]
  },
  {
   "cell_type": "markdown",
   "metadata": {},
   "source": [
    "# Using GIS resources"
   ]
  },
  {
   "cell_type": "markdown",
   "metadata": {},
   "source": [
    "## Users"
   ]
  },
  {
   "cell_type": "code",
   "execution_count": 8,
   "metadata": {},
   "outputs": [
    {
     "data": {
      "text/html": [
       "<div class=\"9item_container\" style=\"height: auto; overflow: hidden; border: 1px solid #cfcfcf; border-radius: 2px; background: #f6fafa; line-height: 1.21429em; padding: 10px;\">\n",
       "                    <div class=\"item_left\" style=\"width: 210px; float: left;\">\n",
       "                       <a href='https://geosaurus.maps.arcgis.com/home/user.html?user=rohitgeo' target='_blank'>\n",
       "                        <img src='https://geosaurus.maps.arcgis.com/home/js/arcgisonline/css/images/no-user-thumb.jpg' class=\"itemThumbnail\">\n",
       "                       </a>\n",
       "                    </div>\n",
       "\n",
       "                    <div class=\"item_right\" style=\"float: none; width: auto; overflow: hidden;\">\n",
       "                        <a href='https://geosaurus.maps.arcgis.com/home/user.html?user=rohitgeo' target='_blank'><b>Rohit Singh</b>\n",
       "                        </a>\n",
       "                        <br/><br/><b>Bio</b>: None\n",
       "                        <br/><b>First Name</b>: Rohit\n",
       "                        <br/><b>Last Name</b>: Singh\n",
       "                        <br/><b>Username</b>: rohitgeo\n",
       "                        <br/><b>Joined</b>: December 17, 2016\n",
       "\n",
       "                    </div>\n",
       "                </div>\n",
       "                "
      ],
      "text/plain": [
       "<User username:rohitgeo>"
      ]
     },
     "execution_count": 8,
     "metadata": {},
     "output_type": "execute_result"
    }
   ],
   "source": [
    "user = gis.users.get('rohitgeo')\n",
    "user"
   ]
  },
  {
   "cell_type": "code",
   "execution_count": 9,
   "metadata": {},
   "outputs": [
    {
     "data": {
      "text/plain": [
       "'Rohit'"
      ]
     },
     "execution_count": 9,
     "metadata": {},
     "output_type": "execute_result"
    }
   ],
   "source": [
    "user['firstName']"
   ]
  },
  {
   "cell_type": "code",
   "execution_count": 10,
   "metadata": {},
   "outputs": [
    {
     "data": {
      "text/plain": [
       "'Singh'"
      ]
     },
     "execution_count": 10,
     "metadata": {},
     "output_type": "execute_result"
    }
   ],
   "source": [
    "user.lastName"
   ]
  },
  {
   "cell_type": "code",
   "execution_count": 11,
   "metadata": {},
   "outputs": [],
   "source": [
    "users = enterprise.users.search()"
   ]
  },
  {
   "cell_type": "code",
   "execution_count": 12,
   "metadata": {},
   "outputs": [
    {
     "data": {
      "text/plain": [
       "[<User username:andrew>,\n",
       " <User username:api_data_owner>,\n",
       " <User username:apulver>,\n",
       " <User username:arcgispyapibot>,\n",
       " <User username:arcgis_python>,\n",
       " <User username:atma.mani>,\n",
       " <User username:bill.major>,\n",
       " <User username:First_User>,\n",
       " <User username:jyaist>,\n",
       " <User username:portaladmin>,\n",
       " <User username:rohitgeo>,\n",
       " <User username:Second_User>,\n",
       " <User username:temp_execution>,\n",
       " <User username:YJiang>]"
      ]
     },
     "execution_count": 12,
     "metadata": {},
     "output_type": "execute_result"
    }
   ],
   "source": [
    "users"
   ]
  },
  {
   "cell_type": "code",
   "execution_count": 13,
   "metadata": {},
   "outputs": [
    {
     "data": {
      "text/html": [
       "<div class=\"9item_container\" style=\"height: auto; overflow: hidden; border: 1px solid #cfcfcf; border-radius: 2px; background: #f6fafa; line-height: 1.21429em; padding: 10px;\">\n",
       "                    <div class=\"item_left\" style=\"width: 210px; float: left;\">\n",
       "                       <a href='https://pythonapi.playground.esri.com/portal/home/user.html?user=andrew' target='_blank'>\n",
       "                        <img src='https://pythonapi.playground.esri.com/portal/home/js/arcgisonline/css/images/no-user-thumb.jpg' class=\"itemThumbnail\">\n",
       "                       </a>\n",
       "                    </div>\n",
       "\n",
       "                    <div class=\"item_right\" style=\"float: none; width: auto; overflow: hidden;\">\n",
       "                        <a href='https://pythonapi.playground.esri.com/portal/home/user.html?user=andrew' target='_blank'><b>Andrew C</b>\n",
       "                        </a>\n",
       "                        <br/><br/><b>Bio</b>: None\n",
       "                        <br/><b>First Name</b>: Andrew\n",
       "                        <br/><b>Last Name</b>: C\n",
       "                        <br/><b>Username</b>: andrew\n",
       "                        <br/><b>Joined</b>: February 26, 2018\n",
       "\n",
       "                    </div>\n",
       "                </div>\n",
       "                "
      ],
      "text/plain": [
       "<User username:andrew>"
      ]
     },
     "execution_count": 13,
     "metadata": {},
     "output_type": "execute_result"
    }
   ],
   "source": [
    "admin = users[0]\n",
    "admin"
   ]
  },
  {
   "cell_type": "code",
   "execution_count": 14,
   "metadata": {},
   "outputs": [
    {
     "data": {
      "text/html": [
       "<div class=\"item_container\" style=\"height: auto; overflow: hidden; border: 1px solid #cfcfcf; border-radius: 2px; background: #f6fafa; line-height: 1.21429em; padding: 10px;\">\n",
       "                    <div class=\"item_left\" style=\"width: 210px; float: left;\">\n",
       "                       <a href='https://geosaurus.maps.arcgis.com/home/item.html?id=d4e4aba351e54a2a95316b89796e4eae' target='_blank'>\n",
       "                        <img src='http://static.arcgis.com/images/desktopapp.png' class=\"itemThumbnail\">\n",
       "                       </a>\n",
       "                    </div>\n",
       "\n",
       "                    <div class=\"item_right\"     style=\"float: none; width: auto; overflow: hidden;\">\n",
       "                        <a href='https://geosaurus.maps.arcgis.com/home/item.html?id=d4e4aba351e54a2a95316b89796e4eae' target='_blank'><b>org_item_profile_status_1556225391</b>\n",
       "                        </a>\n",
       "                        <br/><img src='https://geosaurus.maps.arcgis.com/home/js/jsapi/esri/css/images/item_type_icons/layers16.png' style=\"vertical-align:middle;\">CSV by DavidJVitale\n",
       "                        <br/>Last Modified: April 25, 2019\n",
       "                        <br/>0 comments, 0 views\n",
       "                    </div>\n",
       "                </div>\n",
       "                "
      ],
      "text/plain": [
       "<Item title:\"org_item_profile_status_1556225391\" type:CSV owner:DavidJVitale>"
      ]
     },
     "metadata": {},
     "output_type": "display_data"
    },
    {
     "data": {
      "text/html": [
       "<div class=\"item_container\" style=\"height: auto; overflow: hidden; border: 1px solid #cfcfcf; border-radius: 2px; background: #f6fafa; line-height: 1.21429em; padding: 10px;\">\n",
       "                    <div class=\"item_left\" style=\"width: 210px; float: left;\">\n",
       "                       <a href='https://geosaurus.maps.arcgis.com/home/item.html?id=df1d86d9a707456fb67d9e31640491c5' target='_blank'>\n",
       "                        <img src='data:image/png;base64,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' width='200' height='133' class=\"itemThumbnail\">\n",
       "                       </a>\n",
       "                    </div>\n",
       "\n",
       "                    <div class=\"item_right\"     style=\"float: none; width: auto; overflow: hidden;\">\n",
       "                        <a href='https://geosaurus.maps.arcgis.com/home/item.html?id=df1d86d9a707456fb67d9e31640491c5' target='_blank'><b>saved webmap 2019-05-01 14:28:15.754413</b>\n",
       "                        </a>\n",
       "                        <br/>testing new webscene<img src='https://geosaurus.maps.arcgis.com/home/js/jsapi/esri/css/images/item_type_icons/maps16.png' style=\"vertical-align:middle;\">Web Map by DavidJVitale\n",
       "                        <br/>Last Modified: May 01, 2019\n",
       "                        <br/>0 comments, 8 views\n",
       "                    </div>\n",
       "                </div>\n",
       "                "
      ],
      "text/plain": [
       "<Item title:\"saved webmap 2019-05-01 14:28:15.754413\" type:Web Map owner:DavidJVitale>"
      ]
     },
     "metadata": {},
     "output_type": "display_data"
    },
    {
     "data": {
      "text/html": [
       "<div class=\"item_container\" style=\"height: auto; overflow: hidden; border: 1px solid #cfcfcf; border-radius: 2px; background: #f6fafa; line-height: 1.21429em; padding: 10px;\">\n",
       "                    <div class=\"item_left\" style=\"width: 210px; float: left;\">\n",
       "                       <a href='https://geosaurus.maps.arcgis.com/home/item.html?id=b138c08f84cd4f05935a6172474329a1' target='_blank'>\n",
       "                        <img src='http://static.arcgis.com/images/desktopapp.png' class=\"itemThumbnail\">\n",
       "                       </a>\n",
       "                    </div>\n",
       "\n",
       "                    <div class=\"item_right\"     style=\"float: none; width: auto; overflow: hidden;\">\n",
       "                        <a href='https://geosaurus.maps.arcgis.com/home/item.html?id=b138c08f84cd4f05935a6172474329a1' target='_blank'><b>test00</b>\n",
       "                        </a>\n",
       "                        <br/>test99<img src='https://geosaurus.maps.arcgis.com/home/js/jsapi/esri/css/images/item_type_icons/maps16.png' style=\"vertical-align:middle;\">Web Map by DavidJVitale\n",
       "                        <br/>Last Modified: May 13, 2019\n",
       "                        <br/>0 comments, 6 views\n",
       "                    </div>\n",
       "                </div>\n",
       "                "
      ],
      "text/plain": [
       "<Item title:\"test00\" type:Web Map owner:DavidJVitale>"
      ]
     },
     "metadata": {},
     "output_type": "display_data"
    },
    {
     "data": {
      "text/html": [
       "<div class=\"item_container\" style=\"height: auto; overflow: hidden; border: 1px solid #cfcfcf; border-radius: 2px; background: #f6fafa; line-height: 1.21429em; padding: 10px;\">\n",
       "                    <div class=\"item_left\" style=\"width: 210px; float: left;\">\n",
       "                       <a href='https://geosaurus.maps.arcgis.com/home/item.html?id=2d426198f4e84a359a8afaee13d03013' target='_blank'>\n",
       "                        <img src='http://static.arcgis.com/images/desktopapp.png' class=\"itemThumbnail\">\n",
       "                       </a>\n",
       "                    </div>\n",
       "\n",
       "                    <div class=\"item_right\"     style=\"float: none; width: auto; overflow: hidden;\">\n",
       "                        <a href='https://geosaurus.maps.arcgis.com/home/item.html?id=2d426198f4e84a359a8afaee13d03013' target='_blank'><b>test</b>\n",
       "                        </a>\n",
       "                        <br/>test2<img src='https://geosaurus.maps.arcgis.com/home/js/jsapi/esri/css/images/item_type_icons/maps16.png' style=\"vertical-align:middle;\">Web Map by DavidJVitale\n",
       "                        <br/>Last Modified: May 13, 2019\n",
       "                        <br/>0 comments, 6 views\n",
       "                    </div>\n",
       "                </div>\n",
       "                "
      ],
      "text/plain": [
       "<Item title:\"test\" type:Web Map owner:DavidJVitale>"
      ]
     },
     "metadata": {},
     "output_type": "display_data"
    },
    {
     "data": {
      "text/html": [
       "<div class=\"item_container\" style=\"height: auto; overflow: hidden; border: 1px solid #cfcfcf; border-radius: 2px; background: #f6fafa; line-height: 1.21429em; padding: 10px;\">\n",
       "                    <div class=\"item_left\" style=\"width: 210px; float: left;\">\n",
       "                       <a href='https://geosaurus.maps.arcgis.com/home/item.html?id=93ce74c526e44deea7cd8cb02b36940f' target='_blank'>\n",
       "                        <img src='http://static.arcgis.com/images/desktopapp.png' class=\"itemThumbnail\">\n",
       "                       </a>\n",
       "                    </div>\n",
       "\n",
       "                    <div class=\"item_right\"     style=\"float: none; width: auto; overflow: hidden;\">\n",
       "                        <a href='https://geosaurus.maps.arcgis.com/home/item.html?id=93ce74c526e44deea7cd8cb02b36940f' target='_blank'><b>test</b>\n",
       "                        </a>\n",
       "                        <br/>test2<img src='https://geosaurus.maps.arcgis.com/home/js/jsapi/esri/css/images/item_type_icons/maps16.png' style=\"vertical-align:middle;\">Web Map by DavidJVitale\n",
       "                        <br/>Last Modified: May 13, 2019\n",
       "                        <br/>0 comments, 6 views\n",
       "                    </div>\n",
       "                </div>\n",
       "                "
      ],
      "text/plain": [
       "<Item title:\"test\" type:Web Map owner:DavidJVitale>"
      ]
     },
     "metadata": {},
     "output_type": "display_data"
    },
    {
     "data": {
      "text/html": [
       "<div class=\"item_container\" style=\"height: auto; overflow: hidden; border: 1px solid #cfcfcf; border-radius: 2px; background: #f6fafa; line-height: 1.21429em; padding: 10px;\">\n",
       "                    <div class=\"item_left\" style=\"width: 210px; float: left;\">\n",
       "                       <a href='https://geosaurus.maps.arcgis.com/home/item.html?id=5a4e8885569844c7ba4a7cb9b8e90962' target='_blank'>\n",
       "                        <img src='http://static.arcgis.com/images/desktopapp.png' class=\"itemThumbnail\">\n",
       "                       </a>\n",
       "                    </div>\n",
       "\n",
       "                    <div class=\"item_right\"     style=\"float: none; width: auto; overflow: hidden;\">\n",
       "                        <a href='https://geosaurus.maps.arcgis.com/home/item.html?id=5a4e8885569844c7ba4a7cb9b8e90962' target='_blank'><b>test</b>\n",
       "                        </a>\n",
       "                        <br/>test2<img src='https://geosaurus.maps.arcgis.com/home/js/jsapi/esri/css/images/item_type_icons/maps16.png' style=\"vertical-align:middle;\">Web Map by DavidJVitale\n",
       "                        <br/>Last Modified: May 13, 2019\n",
       "                        <br/>0 comments, 6 views\n",
       "                    </div>\n",
       "                </div>\n",
       "                "
      ],
      "text/plain": [
       "<Item title:\"test\" type:Web Map owner:DavidJVitale>"
      ]
     },
     "metadata": {},
     "output_type": "display_data"
    },
    {
     "data": {
      "text/html": [
       "<div class=\"item_container\" style=\"height: auto; overflow: hidden; border: 1px solid #cfcfcf; border-radius: 2px; background: #f6fafa; line-height: 1.21429em; padding: 10px;\">\n",
       "                    <div class=\"item_left\" style=\"width: 210px; float: left;\">\n",
       "                       <a href='https://geosaurus.maps.arcgis.com/home/item.html?id=63fee8bca22f422a993af41aa812deb7' target='_blank'>\n",
       "                        <img src='http://static.arcgis.com/images/desktopapp.png' class=\"itemThumbnail\">\n",
       "                       </a>\n",
       "                    </div>\n",
       "\n",
       "                    <div class=\"item_right\"     style=\"float: none; width: auto; overflow: hidden;\">\n",
       "                        <a href='https://geosaurus.maps.arcgis.com/home/item.html?id=63fee8bca22f422a993af41aa812deb7' target='_blank'><b>test222</b>\n",
       "                        </a>\n",
       "                        <br/>test2<img src='https://geosaurus.maps.arcgis.com/home/js/jsapi/esri/css/images/item_type_icons/maps16.png' style=\"vertical-align:middle;\">Web Map by DavidJVitale\n",
       "                        <br/>Last Modified: May 13, 2019\n",
       "                        <br/>0 comments, 6 views\n",
       "                    </div>\n",
       "                </div>\n",
       "                "
      ],
      "text/plain": [
       "<Item title:\"test222\" type:Web Map owner:DavidJVitale>"
      ]
     },
     "metadata": {},
     "output_type": "display_data"
    },
    {
     "data": {
      "text/html": [
       "<div class=\"item_container\" style=\"height: auto; overflow: hidden; border: 1px solid #cfcfcf; border-radius: 2px; background: #f6fafa; line-height: 1.21429em; padding: 10px;\">\n",
       "                    <div class=\"item_left\" style=\"width: 210px; float: left;\">\n",
       "                       <a href='https://geosaurus.maps.arcgis.com/home/item.html?id=68f933f939cf42f2b753348f29e00431' target='_blank'>\n",
       "                        <img src='http://static.arcgis.com/images/desktopapp.png' class=\"itemThumbnail\">\n",
       "                       </a>\n",
       "                    </div>\n",
       "\n",
       "                    <div class=\"item_right\"     style=\"float: none; width: auto; overflow: hidden;\">\n",
       "                        <a href='https://geosaurus.maps.arcgis.com/home/item.html?id=68f933f939cf42f2b753348f29e00431' target='_blank'><b>test2222</b>\n",
       "                        </a>\n",
       "                        <br/>test2<img src='https://geosaurus.maps.arcgis.com/home/js/jsapi/esri/css/images/item_type_icons/maps16.png' style=\"vertical-align:middle;\">Web Map by DavidJVitale\n",
       "                        <br/>Last Modified: May 13, 2019\n",
       "                        <br/>0 comments, 6 views\n",
       "                    </div>\n",
       "                </div>\n",
       "                "
      ],
      "text/plain": [
       "<Item title:\"test2222\" type:Web Map owner:DavidJVitale>"
      ]
     },
     "metadata": {},
     "output_type": "display_data"
    },
    {
     "data": {
      "text/html": [
       "<div class=\"item_container\" style=\"height: auto; overflow: hidden; border: 1px solid #cfcfcf; border-radius: 2px; background: #f6fafa; line-height: 1.21429em; padding: 10px;\">\n",
       "                    <div class=\"item_left\" style=\"width: 210px; float: left;\">\n",
       "                       <a href='https://geosaurus.maps.arcgis.com/home/item.html?id=7c7a2819f1ad4021bb1ecb7abf4816f7' target='_blank'>\n",
       "                        <img src='http://static.arcgis.com/images/desktopapp.png' class=\"itemThumbnail\">\n",
       "                       </a>\n",
       "                    </div>\n",
       "\n",
       "                    <div class=\"item_right\"     style=\"float: none; width: auto; overflow: hidden;\">\n",
       "                        <a href='https://geosaurus.maps.arcgis.com/home/item.html?id=7c7a2819f1ad4021bb1ecb7abf4816f7' target='_blank'><b>test</b>\n",
       "                        </a>\n",
       "                        <br/>test2<img src='https://geosaurus.maps.arcgis.com/home/js/jsapi/esri/css/images/item_type_icons/maps16.png' style=\"vertical-align:middle;\">Web Map by DavidJVitale\n",
       "                        <br/>Last Modified: May 13, 2019\n",
       "                        <br/>0 comments, 6 views\n",
       "                    </div>\n",
       "                </div>\n",
       "                "
      ],
      "text/plain": [
       "<Item title:\"test\" type:Web Map owner:DavidJVitale>"
      ]
     },
     "metadata": {},
     "output_type": "display_data"
    },
    {
     "data": {
      "text/html": [
       "<div class=\"item_container\" style=\"height: auto; overflow: hidden; border: 1px solid #cfcfcf; border-radius: 2px; background: #f6fafa; line-height: 1.21429em; padding: 10px;\">\n",
       "                    <div class=\"item_left\" style=\"width: 210px; float: left;\">\n",
       "                       <a href='https://geosaurus.maps.arcgis.com/home/item.html?id=2d2ec5a1c0b04f9fadc7e7c534fce144' target='_blank'>\n",
       "                        <img src='http://static.arcgis.com/images/desktopapp.png' class=\"itemThumbnail\">\n",
       "                       </a>\n",
       "                    </div>\n",
       "\n",
       "                    <div class=\"item_right\"     style=\"float: none; width: auto; overflow: hidden;\">\n",
       "                        <a href='https://geosaurus.maps.arcgis.com/home/item.html?id=2d2ec5a1c0b04f9fadc7e7c534fce144' target='_blank'><b>test</b>\n",
       "                        </a>\n",
       "                        <br/>test2<img src='https://geosaurus.maps.arcgis.com/home/js/jsapi/esri/css/images/item_type_icons/maps16.png' style=\"vertical-align:middle;\">Web Map by DavidJVitale\n",
       "                        <br/>Last Modified: May 13, 2019\n",
       "                        <br/>0 comments, 6 views\n",
       "                    </div>\n",
       "                </div>\n",
       "                "
      ],
      "text/plain": [
       "<Item title:\"test\" type:Web Map owner:DavidJVitale>"
      ]
     },
     "metadata": {},
     "output_type": "display_data"
    },
    {
     "data": {
      "text/html": [
       "<div class=\"item_container\" style=\"height: auto; overflow: hidden; border: 1px solid #cfcfcf; border-radius: 2px; background: #f6fafa; line-height: 1.21429em; padding: 10px;\">\n",
       "                    <div class=\"item_left\" style=\"width: 210px; float: left;\">\n",
       "                       <a href='https://geosaurus.maps.arcgis.com/home/item.html?id=f8cc2e324be64d9a896e6787ed751982' target='_blank'>\n",
       "                        <img src='http://static.arcgis.com/images/desktopapp.png' class=\"itemThumbnail\">\n",
       "                       </a>\n",
       "                    </div>\n",
       "\n",
       "                    <div class=\"item_right\"     style=\"float: none; width: auto; overflow: hidden;\">\n",
       "                        <a href='https://geosaurus.maps.arcgis.com/home/item.html?id=f8cc2e324be64d9a896e6787ed751982' target='_blank'><b>foo</b>\n",
       "                        </a>\n",
       "                        <br/>bar<img src='https://geosaurus.maps.arcgis.com/home/js/jsapi/esri/css/images/item_type_icons/maps16.png' style=\"vertical-align:middle;\">Web Map by DavidJVitale\n",
       "                        <br/>Last Modified: June 17, 2019\n",
       "                        <br/>0 comments, 6 views\n",
       "                    </div>\n",
       "                </div>\n",
       "                "
      ],
      "text/plain": [
       "<Item title:\"foo\" type:Web Map owner:DavidJVitale>"
      ]
     },
     "metadata": {},
     "output_type": "display_data"
    },
    {
     "data": {
      "text/html": [
       "<div class=\"item_container\" style=\"height: auto; overflow: hidden; border: 1px solid #cfcfcf; border-radius: 2px; background: #f6fafa; line-height: 1.21429em; padding: 10px;\">\n",
       "                    <div class=\"item_left\" style=\"width: 210px; float: left;\">\n",
       "                       <a href='https://geosaurus.maps.arcgis.com/home/item.html?id=5382b2045f824acdab2356ddad66b3d9' target='_blank'>\n",
       "                        <img src='data:image/png;base64,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' width='200' height='133' class=\"itemThumbnail\">\n",
       "                       </a>\n",
       "                    </div>\n",
       "\n",
       "                    <div class=\"item_right\"     style=\"float: none; width: auto; overflow: hidden;\">\n",
       "                        <a href='https://geosaurus.maps.arcgis.com/home/item.html?id=5382b2045f824acdab2356ddad66b3d9' target='_blank'><b>Hello Web Map!</b>\n",
       "                        </a>\n",
       "                        <br/>test<img src='https://geosaurus.maps.arcgis.com/home/js/jsapi/esri/css/images/item_type_icons/maps16.png' style=\"vertical-align:middle;\">Web Map by DavidJVitale\n",
       "                        <br/>Last Modified: July 10, 2019\n",
       "                        <br/>0 comments, 9 views\n",
       "                    </div>\n",
       "                </div>\n",
       "                "
      ],
      "text/plain": [
       "<Item title:\"Hello Web Map!\" type:Web Map owner:DavidJVitale>"
      ]
     },
     "metadata": {},
     "output_type": "display_data"
    },
    {
     "data": {
      "text/html": [
       "<div class=\"item_container\" style=\"height: auto; overflow: hidden; border: 1px solid #cfcfcf; border-radius: 2px; background: #f6fafa; line-height: 1.21429em; padding: 10px;\">\n",
       "                    <div class=\"item_left\" style=\"width: 210px; float: left;\">\n",
       "                       <a href='https://geosaurus.maps.arcgis.com/home/item.html?id=3ae1d4ee435045e687c271cabb4e8483' target='_blank'>\n",
       "                        <img src='http://static.arcgis.com/images/desktopapp.png' class=\"itemThumbnail\">\n",
       "                       </a>\n",
       "                    </div>\n",
       "\n",
       "                    <div class=\"item_right\"     style=\"float: none; width: auto; overflow: hidden;\">\n",
       "                        <a href='https://geosaurus.maps.arcgis.com/home/item.html?id=3ae1d4ee435045e687c271cabb4e8483' target='_blank'><b>ALL_URLs-Wed Jul 10 13:49:32 2019</b>\n",
       "                        </a>\n",
       "                        <br/><img src='https://geosaurus.maps.arcgis.com/home/js/jsapi/esri/css/images/item_type_icons/layers16.png' style=\"vertical-align:middle;\">CSV by DavidJVitale\n",
       "                        <br/>Last Modified: July 10, 2019\n",
       "                        <br/>0 comments, 1 views\n",
       "                    </div>\n",
       "                </div>\n",
       "                "
      ],
      "text/plain": [
       "<Item title:\"ALL_URLs-Wed Jul 10 13:49:32 2019\" type:CSV owner:DavidJVitale>"
      ]
     },
     "metadata": {},
     "output_type": "display_data"
    },
    {
     "data": {
      "text/html": [
       "<div class=\"item_container\" style=\"height: auto; overflow: hidden; border: 1px solid #cfcfcf; border-radius: 2px; background: #f6fafa; line-height: 1.21429em; padding: 10px;\">\n",
       "                    <div class=\"item_left\" style=\"width: 210px; float: left;\">\n",
       "                       <a href='https://geosaurus.maps.arcgis.com/home/item.html?id=6370f1930520487db608227a4bb5f139' target='_blank'>\n",
       "                        <img src='http://static.arcgis.com/images/desktopapp.png' class=\"itemThumbnail\">\n",
       "                       </a>\n",
       "                    </div>\n",
       "\n",
       "                    <div class=\"item_right\"     style=\"float: none; width: auto; overflow: hidden;\">\n",
       "                        <a href='https://geosaurus.maps.arcgis.com/home/item.html?id=6370f1930520487db608227a4bb5f139' target='_blank'><b>INSECURE_ITEMS-Wed Jul 10 13:49:32 2019</b>\n",
       "                        </a>\n",
       "                        <br/><img src='https://geosaurus.maps.arcgis.com/home/js/jsapi/esri/css/images/item_type_icons/layers16.png' style=\"vertical-align:middle;\">CSV by DavidJVitale\n",
       "                        <br/>Last Modified: July 10, 2019\n",
       "                        <br/>0 comments, 0 views\n",
       "                    </div>\n",
       "                </div>\n",
       "                "
      ],
      "text/plain": [
       "<Item title:\"INSECURE_ITEMS-Wed Jul 10 13:49:32 2019\" type:CSV owner:DavidJVitale>"
      ]
     },
     "metadata": {},
     "output_type": "display_data"
    },
    {
     "data": {
      "text/html": [
       "<div class=\"item_container\" style=\"height: auto; overflow: hidden; border: 1px solid #cfcfcf; border-radius: 2px; background: #f6fafa; line-height: 1.21429em; padding: 10px;\">\n",
       "                    <div class=\"item_left\" style=\"width: 210px; float: left;\">\n",
       "                       <a href='https://geosaurus.maps.arcgis.com/home/item.html?id=f25b1c53f0124c609f25d34fee4c6ae4' target='_blank'>\n",
       "                        <img src='http://static.arcgis.com/images/desktopapp.png' class=\"itemThumbnail\">\n",
       "                       </a>\n",
       "                    </div>\n",
       "\n",
       "                    <div class=\"item_right\"     style=\"float: none; width: auto; overflow: hidden;\">\n",
       "                        <a href='https://geosaurus.maps.arcgis.com/home/item.html?id=f25b1c53f0124c609f25d34fee4c6ae4' target='_blank'><b>ALL_URLs-Wed Jul 10 13:51:16 2019</b>\n",
       "                        </a>\n",
       "                        <br/><img src='https://geosaurus.maps.arcgis.com/home/js/jsapi/esri/css/images/item_type_icons/layers16.png' style=\"vertical-align:middle;\">CSV by DavidJVitale\n",
       "                        <br/>Last Modified: July 10, 2019\n",
       "                        <br/>0 comments, 0 views\n",
       "                    </div>\n",
       "                </div>\n",
       "                "
      ],
      "text/plain": [
       "<Item title:\"ALL_URLs-Wed Jul 10 13:51:16 2019\" type:CSV owner:DavidJVitale>"
      ]
     },
     "metadata": {},
     "output_type": "display_data"
    },
    {
     "data": {
      "text/html": [
       "<div class=\"item_container\" style=\"height: auto; overflow: hidden; border: 1px solid #cfcfcf; border-radius: 2px; background: #f6fafa; line-height: 1.21429em; padding: 10px;\">\n",
       "                    <div class=\"item_left\" style=\"width: 210px; float: left;\">\n",
       "                       <a href='https://geosaurus.maps.arcgis.com/home/item.html?id=e5e8ae40ff69466092488b279c1ed13e' target='_blank'>\n",
       "                        <img src='http://static.arcgis.com/images/desktopapp.png' class=\"itemThumbnail\">\n",
       "                       </a>\n",
       "                    </div>\n",
       "\n",
       "                    <div class=\"item_right\"     style=\"float: none; width: auto; overflow: hidden;\">\n",
       "                        <a href='https://geosaurus.maps.arcgis.com/home/item.html?id=e5e8ae40ff69466092488b279c1ed13e' target='_blank'><b>INSECURE_ITEMS-Wed Jul 10 13:51:16 2019</b>\n",
       "                        </a>\n",
       "                        <br/><img src='https://geosaurus.maps.arcgis.com/home/js/jsapi/esri/css/images/item_type_icons/layers16.png' style=\"vertical-align:middle;\">CSV by DavidJVitale\n",
       "                        <br/>Last Modified: July 10, 2019\n",
       "                        <br/>0 comments, 0 views\n",
       "                    </div>\n",
       "                </div>\n",
       "                "
      ],
      "text/plain": [
       "<Item title:\"INSECURE_ITEMS-Wed Jul 10 13:51:16 2019\" type:CSV owner:DavidJVitale>"
      ]
     },
     "metadata": {},
     "output_type": "display_data"
    },
    {
     "data": {
      "text/html": [
       "<div class=\"item_container\" style=\"height: auto; overflow: hidden; border: 1px solid #cfcfcf; border-radius: 2px; background: #f6fafa; line-height: 1.21429em; padding: 10px;\">\n",
       "                    <div class=\"item_left\" style=\"width: 210px; float: left;\">\n",
       "                       <a href='https://geosaurus.maps.arcgis.com/home/item.html?id=6cdf322e8dfa49cbad7cec3ef1f078b8' target='_blank'>\n",
       "                        <img src='http://static.arcgis.com/images/desktopapp.png' class=\"itemThumbnail\">\n",
       "                       </a>\n",
       "                    </div>\n",
       "\n",
       "                    <div class=\"item_right\"     style=\"float: none; width: auto; overflow: hidden;\">\n",
       "                        <a href='https://geosaurus.maps.arcgis.com/home/item.html?id=6cdf322e8dfa49cbad7cec3ef1f078b8' target='_blank'><b>ALL_URLs-Wed Jul 10 13:52:09 2019</b>\n",
       "                        </a>\n",
       "                        <br/><img src='https://geosaurus.maps.arcgis.com/home/js/jsapi/esri/css/images/item_type_icons/layers16.png' style=\"vertical-align:middle;\">CSV by DavidJVitale\n",
       "                        <br/>Last Modified: July 10, 2019\n",
       "                        <br/>0 comments, 0 views\n",
       "                    </div>\n",
       "                </div>\n",
       "                "
      ],
      "text/plain": [
       "<Item title:\"ALL_URLs-Wed Jul 10 13:52:09 2019\" type:CSV owner:DavidJVitale>"
      ]
     },
     "metadata": {},
     "output_type": "display_data"
    },
    {
     "data": {
      "text/html": [
       "<div class=\"item_container\" style=\"height: auto; overflow: hidden; border: 1px solid #cfcfcf; border-radius: 2px; background: #f6fafa; line-height: 1.21429em; padding: 10px;\">\n",
       "                    <div class=\"item_left\" style=\"width: 210px; float: left;\">\n",
       "                       <a href='https://geosaurus.maps.arcgis.com/home/item.html?id=2fc93297e5bd4b429179799e476fef47' target='_blank'>\n",
       "                        <img src='http://static.arcgis.com/images/desktopapp.png' class=\"itemThumbnail\">\n",
       "                       </a>\n",
       "                    </div>\n",
       "\n",
       "                    <div class=\"item_right\"     style=\"float: none; width: auto; overflow: hidden;\">\n",
       "                        <a href='https://geosaurus.maps.arcgis.com/home/item.html?id=2fc93297e5bd4b429179799e476fef47' target='_blank'><b>INSECURE_ITEMS-Wed Jul 10 13:52:09 2019</b>\n",
       "                        </a>\n",
       "                        <br/><img src='https://geosaurus.maps.arcgis.com/home/js/jsapi/esri/css/images/item_type_icons/layers16.png' style=\"vertical-align:middle;\">CSV by DavidJVitale\n",
       "                        <br/>Last Modified: July 10, 2019\n",
       "                        <br/>0 comments, 0 views\n",
       "                    </div>\n",
       "                </div>\n",
       "                "
      ],
      "text/plain": [
       "<Item title:\"INSECURE_ITEMS-Wed Jul 10 13:52:09 2019\" type:CSV owner:DavidJVitale>"
      ]
     },
     "metadata": {},
     "output_type": "display_data"
    },
    {
     "data": {
      "text/html": [
       "<div class=\"item_container\" style=\"height: auto; overflow: hidden; border: 1px solid #cfcfcf; border-radius: 2px; background: #f6fafa; line-height: 1.21429em; padding: 10px;\">\n",
       "                    <div class=\"item_left\" style=\"width: 210px; float: left;\">\n",
       "                       <a href='https://geosaurus.maps.arcgis.com/home/item.html?id=fe2f6cbfcb9941c795a5d695091a3499' target='_blank'>\n",
       "                        <img src='http://static.arcgis.com/images/desktopapp.png' class=\"itemThumbnail\">\n",
       "                       </a>\n",
       "                    </div>\n",
       "\n",
       "                    <div class=\"item_right\"     style=\"float: none; width: auto; overflow: hidden;\">\n",
       "                        <a href='https://geosaurus.maps.arcgis.com/home/item.html?id=fe2f6cbfcb9941c795a5d695091a3499' target='_blank'><b>ALL_URLs-Wed Jul 10 13:53:01 2019</b>\n",
       "                        </a>\n",
       "                        <br/><img src='https://geosaurus.maps.arcgis.com/home/js/jsapi/esri/css/images/item_type_icons/layers16.png' style=\"vertical-align:middle;\">CSV by DavidJVitale\n",
       "                        <br/>Last Modified: July 10, 2019\n",
       "                        <br/>0 comments, 1 views\n",
       "                    </div>\n",
       "                </div>\n",
       "                "
      ],
      "text/plain": [
       "<Item title:\"ALL_URLs-Wed Jul 10 13:53:01 2019\" type:CSV owner:DavidJVitale>"
      ]
     },
     "metadata": {},
     "output_type": "display_data"
    },
    {
     "data": {
      "text/html": [
       "<div class=\"item_container\" style=\"height: auto; overflow: hidden; border: 1px solid #cfcfcf; border-radius: 2px; background: #f6fafa; line-height: 1.21429em; padding: 10px;\">\n",
       "                    <div class=\"item_left\" style=\"width: 210px; float: left;\">\n",
       "                       <a href='https://geosaurus.maps.arcgis.com/home/item.html?id=cb9913a196864ed7b6f1b0a5d34a0fe0' target='_blank'>\n",
       "                        <img src='http://static.arcgis.com/images/desktopapp.png' class=\"itemThumbnail\">\n",
       "                       </a>\n",
       "                    </div>\n",
       "\n",
       "                    <div class=\"item_right\"     style=\"float: none; width: auto; overflow: hidden;\">\n",
       "                        <a href='https://geosaurus.maps.arcgis.com/home/item.html?id=cb9913a196864ed7b6f1b0a5d34a0fe0' target='_blank'><b>INSECURE_ITEMS-Wed Jul 10 13:53:01 2019</b>\n",
       "                        </a>\n",
       "                        <br/><img src='https://geosaurus.maps.arcgis.com/home/js/jsapi/esri/css/images/item_type_icons/layers16.png' style=\"vertical-align:middle;\">CSV by DavidJVitale\n",
       "                        <br/>Last Modified: July 10, 2019\n",
       "                        <br/>0 comments, 0 views\n",
       "                    </div>\n",
       "                </div>\n",
       "                "
      ],
      "text/plain": [
       "<Item title:\"INSECURE_ITEMS-Wed Jul 10 13:53:01 2019\" type:CSV owner:DavidJVitale>"
      ]
     },
     "metadata": {},
     "output_type": "display_data"
    },
    {
     "data": {
      "text/html": [
       "<div class=\"item_container\" style=\"height: auto; overflow: hidden; border: 1px solid #cfcfcf; border-radius: 2px; background: #f6fafa; line-height: 1.21429em; padding: 10px;\">\n",
       "                    <div class=\"item_left\" style=\"width: 210px; float: left;\">\n",
       "                       <a href='https://geosaurus.maps.arcgis.com/home/item.html?id=f22cfa3927e24e79a08535ad12619b4e' target='_blank'>\n",
       "                        <img src='http://static.arcgis.com/images/desktopapp.png' class=\"itemThumbnail\">\n",
       "                       </a>\n",
       "                    </div>\n",
       "\n",
       "                    <div class=\"item_right\"     style=\"float: none; width: auto; overflow: hidden;\">\n",
       "                        <a href='https://geosaurus.maps.arcgis.com/home/item.html?id=f22cfa3927e24e79a08535ad12619b4e' target='_blank'><b>ALL_URLs-Wed Jul 10 15:07:18 2019</b>\n",
       "                        </a>\n",
       "                        <br/><img src='https://geosaurus.maps.arcgis.com/home/js/jsapi/esri/css/images/item_type_icons/layers16.png' style=\"vertical-align:middle;\">CSV by DavidJVitale\n",
       "                        <br/>Last Modified: July 10, 2019\n",
       "                        <br/>0 comments, 1 views\n",
       "                    </div>\n",
       "                </div>\n",
       "                "
      ],
      "text/plain": [
       "<Item title:\"ALL_URLs-Wed Jul 10 15:07:18 2019\" type:CSV owner:DavidJVitale>"
      ]
     },
     "metadata": {},
     "output_type": "display_data"
    },
    {
     "data": {
      "text/html": [
       "<div class=\"item_container\" style=\"height: auto; overflow: hidden; border: 1px solid #cfcfcf; border-radius: 2px; background: #f6fafa; line-height: 1.21429em; padding: 10px;\">\n",
       "                    <div class=\"item_left\" style=\"width: 210px; float: left;\">\n",
       "                       <a href='https://geosaurus.maps.arcgis.com/home/item.html?id=b7b0aacf134946a3834f24a1b63c0b76' target='_blank'>\n",
       "                        <img src='http://static.arcgis.com/images/desktopapp.png' class=\"itemThumbnail\">\n",
       "                       </a>\n",
       "                    </div>\n",
       "\n",
       "                    <div class=\"item_right\"     style=\"float: none; width: auto; overflow: hidden;\">\n",
       "                        <a href='https://geosaurus.maps.arcgis.com/home/item.html?id=b7b0aacf134946a3834f24a1b63c0b76' target='_blank'><b>INSECURE_ITEMS-Wed Jul 10 15:07:18 2019</b>\n",
       "                        </a>\n",
       "                        <br/><img src='https://geosaurus.maps.arcgis.com/home/js/jsapi/esri/css/images/item_type_icons/layers16.png' style=\"vertical-align:middle;\">CSV by DavidJVitale\n",
       "                        <br/>Last Modified: July 10, 2019\n",
       "                        <br/>0 comments, 0 views\n",
       "                    </div>\n",
       "                </div>\n",
       "                "
      ],
      "text/plain": [
       "<Item title:\"INSECURE_ITEMS-Wed Jul 10 15:07:18 2019\" type:CSV owner:DavidJVitale>"
      ]
     },
     "metadata": {},
     "output_type": "display_data"
    },
    {
     "data": {
      "text/html": [
       "<div class=\"item_container\" style=\"height: auto; overflow: hidden; border: 1px solid #cfcfcf; border-radius: 2px; background: #f6fafa; line-height: 1.21429em; padding: 10px;\">\n",
       "                    <div class=\"item_left\" style=\"width: 210px; float: left;\">\n",
       "                       <a href='https://geosaurus.maps.arcgis.com/home/item.html?id=3172f8a6cec54d619e0775019e8bf7b2' target='_blank'>\n",
       "                        <img src='data:image/png;base64,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' width='200' height='133' class=\"itemThumbnail\">\n",
       "                       </a>\n",
       "                    </div>\n",
       "\n",
       "                    <div class=\"item_right\"     style=\"float: none; width: auto; overflow: hidden;\">\n",
       "                        <a href='https://geosaurus.maps.arcgis.com/home/item.html?id=3172f8a6cec54d619e0775019e8bf7b2' target='_blank'><b>My Zion Park Web Scene99</b>\n",
       "                        </a>\n",
       "                        <br/>What I made in the new beta ArcGIS API for Python!<img src='https://geosaurus.maps.arcgis.com/home/js/jsapi/esri/css/images/item_type_icons/websceneglobal16.png' style=\"vertical-align:middle;\">Web Scene by DavidJVitale\n",
       "                        <br/>Last Modified: July 11, 2019\n",
       "                        <br/>0 comments, 3 views\n",
       "                    </div>\n",
       "                </div>\n",
       "                "
      ],
      "text/plain": [
       "<Item title:\"My Zion Park Web Scene99\" type:Web Scene owner:DavidJVitale>"
      ]
     },
     "metadata": {},
     "output_type": "display_data"
    }
   ],
   "source": [
    "for item in gis.users.me.items():\n",
    "    display(item)"
   ]
  },
  {
   "cell_type": "markdown",
   "metadata": {},
   "source": [
    "## Groups"
   ]
  },
  {
   "cell_type": "code",
   "execution_count": 15,
   "metadata": {},
   "outputs": [
    {
     "data": {
      "text/plain": [
       "[<Group title:\"My UC 2019 Group\" owner:DavidJVitale>]"
      ]
     },
     "execution_count": 15,
     "metadata": {},
     "output_type": "execute_result"
    }
   ],
   "source": [
    "groups = gis.groups.search('UC')\n",
    "groups"
   ]
  },
  {
   "cell_type": "code",
   "execution_count": 17,
   "metadata": {},
   "outputs": [
    {
     "data": {
      "text/html": [
       "<div class=\"9item_container\" style=\"height: auto; overflow: hidden; border: 1px solid #cfcfcf; border-radius: 2px; background: #f6fafa; line-height: 1.21429em; padding: 10px;\">\n",
       "                    <div class=\"item_left\" style=\"width: 210px; float: left;\">\n",
       "                       <a href='https://geosaurus.maps.arcgis.com/home/group.html?id=80d348cade4d4696b655d1cd62762504' target='_blank'>\n",
       "                        <img src='https://geosaurus.maps.arcgis.com/home/images/group-no-image.png' class=\"itemThumbnail\">\n",
       "                       </a>\n",
       "                    </div>\n",
       "\n",
       "                    <div class=\"item_right\" style=\"float: none; width: auto; overflow: hidden;\">\n",
       "                        <a href='https://geosaurus.maps.arcgis.com/home/group.html?id=80d348cade4d4696b655d1cd62762504' target='_blank'><b>My UC 2019 Group</b>\n",
       "                        </a>\n",
       "                        <br/>\n",
       "                        <br/><b>Summary</b>: None\n",
       "                        <br/><b>Description</b>: None\n",
       "                        <br/><b>Owner</b>: DavidJVitale\n",
       "                        <br/><b>Created</b>: July 11, 2019\n",
       "\n",
       "                    </div>\n",
       "                </div>\n",
       "                "
      ],
      "text/plain": [
       "<Group title:\"My UC 2019 Group\" owner:DavidJVitale>"
      ]
     },
     "execution_count": 17,
     "metadata": {},
     "output_type": "execute_result"
    }
   ],
   "source": [
    "uc_group = groups[0]\n",
    "uc_group"
   ]
  },
  {
   "cell_type": "code",
   "execution_count": 18,
   "metadata": {
    "scrolled": true
   },
   "outputs": [
    {
     "data": {
      "text/plain": [
       "[<Item title:\"ALL_URLs-Wed Jul 10 13:53:01 2019\" type:CSV owner:DavidJVitale>,\n",
       " <Item title:\"Hello Web Map!\" type:Web Map owner:DavidJVitale>,\n",
       " <Item title:\"My Zion Park Web Scene99\" type:Web Scene owner:DavidJVitale>]"
      ]
     },
     "execution_count": 18,
     "metadata": {},
     "output_type": "execute_result"
    }
   ],
   "source": [
    "uc_group.content()"
   ]
  },
  {
   "cell_type": "markdown",
   "metadata": {},
   "source": [
    "## Content"
   ]
  },
  {
   "cell_type": "code",
   "execution_count": 19,
   "metadata": {},
   "outputs": [
    {
     "data": {
      "text/html": [
       "<div class=\"item_container\" style=\"height: auto; overflow: hidden; border: 1px solid #cfcfcf; border-radius: 2px; background: #f6fafa; line-height: 1.21429em; padding: 10px;\">\n",
       "                    <div class=\"item_left\" style=\"width: 210px; float: left;\">\n",
       "                       <a href='https://geosaurus.maps.arcgis.com/home/item.html?id=f3936b28408e4a8fa69eb77f4dd50139' target='_blank'>\n",
       "                        <img src='http://static.arcgis.com/images/desktopapp.png' class=\"itemThumbnail\">\n",
       "                       </a>\n",
       "                    </div>\n",
       "\n",
       "                    <div class=\"item_right\"     style=\"float: none; width: auto; overflow: hidden;\">\n",
       "                        <a href='https://geosaurus.maps.arcgis.com/home/item.html?id=f3936b28408e4a8fa69eb77f4dd50139' target='_blank'><b>Network Analysis: Investigate Chennai floods</b>\n",
       "                        </a>\n",
       "                        <br/>Rainfall in Chennai, India<img src='https://geosaurus.maps.arcgis.com/home/js/jsapi/esri/css/images/item_type_icons/layers16.png' style=\"vertical-align:middle;\">Notebook by ArcGISPyAPIBot\n",
       "                        <br/>Last Modified: July 11, 2019\n",
       "                        <br/>0 comments, 0 views\n",
       "                    </div>\n",
       "                </div>\n",
       "                "
      ],
      "text/plain": [
       "<Item title:\"Network Analysis: Investigate Chennai floods\" type:Notebook owner:ArcGISPyAPIBot>"
      ]
     },
     "metadata": {},
     "output_type": "display_data"
    },
    {
     "data": {
      "text/html": [
       "<div class=\"item_container\" style=\"height: auto; overflow: hidden; border: 1px solid #cfcfcf; border-radius: 2px; background: #f6fafa; line-height: 1.21429em; padding: 10px;\">\n",
       "                    <div class=\"item_left\" style=\"width: 210px; float: left;\">\n",
       "                       <a href='https://geosaurus.maps.arcgis.com/home/item.html?id=46843c377782493185d774201978ed63' target='_blank'>\n",
       "                        <img src='http://static.arcgis.com/images/desktopapp.png' class=\"itemThumbnail\">\n",
       "                       </a>\n",
       "                    </div>\n",
       "\n",
       "                    <div class=\"item_right\"     style=\"float: none; width: auto; overflow: hidden;\">\n",
       "                        <a href='https://geosaurus.maps.arcgis.com/home/item.html?id=46843c377782493185d774201978ed63' target='_blank'><b>chennai lakes</b>\n",
       "                        </a>\n",
       "                        <br/><img src='https://geosaurus.maps.arcgis.com/home/js/jsapi/esri/css/images/item_type_icons/datafiles16.png' style=\"vertical-align:middle;\">Shapefile by api_data_owner\n",
       "                        <br/>Last Modified: May 17, 2019\n",
       "                        <br/>0 comments, 1 views\n",
       "                    </div>\n",
       "                </div>\n",
       "                "
      ],
      "text/plain": [
       "<Item title:\"chennai lakes\" type:Shapefile owner:api_data_owner>"
      ]
     },
     "metadata": {},
     "output_type": "display_data"
    },
    {
     "data": {
      "text/html": [
       "<div class=\"item_container\" style=\"height: auto; overflow: hidden; border: 1px solid #cfcfcf; border-radius: 2px; background: #f6fafa; line-height: 1.21429em; padding: 10px;\">\n",
       "                    <div class=\"item_left\" style=\"width: 210px; float: left;\">\n",
       "                       <a href='https://geosaurus.maps.arcgis.com/home/item.html?id=66f7be3c7e624d6ba46b3c6d25d70702' target='_blank'>\n",
       "                        <img src='http://static.arcgis.com/images/desktopapp.png' class=\"itemThumbnail\">\n",
       "                       </a>\n",
       "                    </div>\n",
       "\n",
       "                    <div class=\"item_right\"     style=\"float: none; width: auto; overflow: hidden;\">\n",
       "                        <a href='https://geosaurus.maps.arcgis.com/home/item.html?id=66f7be3c7e624d6ba46b3c6d25d70702' target='_blank'><b>chennai lakes</b>\n",
       "                        </a>\n",
       "                        <br/><img src='https://geosaurus.maps.arcgis.com/home/js/jsapi/esri/css/images/item_type_icons/featureshosted16.png' style=\"vertical-align:middle;\">Feature Layer Collection by api_data_owner\n",
       "                        <br/>Last Modified: May 17, 2019\n",
       "                        <br/>0 comments, 1 views\n",
       "                    </div>\n",
       "                </div>\n",
       "                "
      ],
      "text/plain": [
       "<Item title:\"chennai lakes\" type:Feature Layer Collection owner:api_data_owner>"
      ]
     },
     "metadata": {},
     "output_type": "display_data"
    }
   ],
   "source": [
    "items = gis.content.search('Chennai')\n",
    "for item in items:\n",
    "    display(item)"
   ]
  },
  {
   "cell_type": "code",
   "execution_count": 20,
   "metadata": {},
   "outputs": [
    {
     "data": {
      "text/html": [
       "<div class=\"item_container\" style=\"height: auto; overflow: hidden; border: 1px solid #cfcfcf; border-radius: 2px; background: #f6fafa; line-height: 1.21429em; padding: 10px;\">\n",
       "                    <div class=\"item_left\" style=\"width: 210px; float: left;\">\n",
       "                       <a href='https://geosaurus.maps.arcgis.com/home/item.html?id=f3936b28408e4a8fa69eb77f4dd50139' target='_blank'>\n",
       "                        <img src='http://static.arcgis.com/images/desktopapp.png' class=\"itemThumbnail\">\n",
       "                       </a>\n",
       "                    </div>\n",
       "\n",
       "                    <div class=\"item_right\"     style=\"float: none; width: auto; overflow: hidden;\">\n",
       "                        <a href='https://geosaurus.maps.arcgis.com/home/item.html?id=f3936b28408e4a8fa69eb77f4dd50139' target='_blank'><b>Network Analysis: Investigate Chennai floods</b>\n",
       "                        </a>\n",
       "                        <br/>Rainfall in Chennai, India<img src='https://geosaurus.maps.arcgis.com/home/js/jsapi/esri/css/images/item_type_icons/layers16.png' style=\"vertical-align:middle;\">Notebook by ArcGISPyAPIBot\n",
       "                        <br/>Last Modified: July 11, 2019\n",
       "                        <br/>0 comments, 0 views\n",
       "                    </div>\n",
       "                </div>\n",
       "                "
      ],
      "text/plain": [
       "<Item title:\"Network Analysis: Investigate Chennai floods\" type:Notebook owner:ArcGISPyAPIBot>"
      ]
     },
     "execution_count": 20,
     "metadata": {},
     "output_type": "execute_result"
    }
   ],
   "source": [
    "item = items[0]\n",
    "item"
   ]
  },
  {
   "cell_type": "code",
   "execution_count": 21,
   "metadata": {},
   "outputs": [
    {
     "data": {
      "text/plain": [
       "'ArcGISPyAPIBot'"
      ]
     },
     "execution_count": 21,
     "metadata": {},
     "output_type": "execute_result"
    }
   ],
   "source": [
    "item.owner"
   ]
  },
  {
   "cell_type": "code",
   "execution_count": 22,
   "metadata": {},
   "outputs": [
    {
     "data": {
      "text/plain": [
       "'Rainfall in Chennai, India'"
      ]
     },
     "execution_count": 22,
     "metadata": {},
     "output_type": "execute_result"
    }
   ],
   "source": [
    "item.snippet"
   ]
  },
  {
   "cell_type": "code",
   "execution_count": 23,
   "metadata": {},
   "outputs": [
    {
     "data": {
      "text/plain": [
       "True"
      ]
     },
     "execution_count": 23,
     "metadata": {},
     "output_type": "execute_result"
    }
   ],
   "source": [
    "item.update({'snippet': 'Rainfall in Chennai, India. Updated in UC 2019'})"
   ]
  },
  {
   "cell_type": "code",
   "execution_count": 32,
   "metadata": {},
   "outputs": [
    {
     "data": {
      "text/plain": [
       "'Rainfall in Chennai, India'"
      ]
     },
     "execution_count": 32,
     "metadata": {},
     "output_type": "execute_result"
    }
   ],
   "source": [
    "item.snippet"
   ]
  },
  {
   "cell_type": "code",
   "execution_count": 33,
   "metadata": {},
   "outputs": [
    {
     "data": {
      "text/html": [
       "<div class=\"item_container\" style=\"height: auto; overflow: hidden; border: 1px solid #cfcfcf; border-radius: 2px; background: #f6fafa; line-height: 1.21429em; padding: 10px;\">\n",
       "                    <div class=\"item_left\" style=\"width: 210px; float: left;\">\n",
       "                       <a href='https://geosaurus.maps.arcgis.com/home/item.html?id=f3936b28408e4a8fa69eb77f4dd50139' target='_blank'>\n",
       "                        <img src='http://static.arcgis.com/images/desktopapp.png' class=\"itemThumbnail\">\n",
       "                       </a>\n",
       "                    </div>\n",
       "\n",
       "                    <div class=\"item_right\"     style=\"float: none; width: auto; overflow: hidden;\">\n",
       "                        <a href='https://geosaurus.maps.arcgis.com/home/item.html?id=f3936b28408e4a8fa69eb77f4dd50139' target='_blank'><b>Network Analysis: Investigate Chennai floods</b>\n",
       "                        </a>\n",
       "                        <br/>Rainfall in Chennai, India<img src='https://geosaurus.maps.arcgis.com/home/js/jsapi/esri/css/images/item_type_icons/layers16.png' style=\"vertical-align:middle;\">Notebook by ArcGISPyAPIBot\n",
       "                        <br/>Last Modified: July 11, 2019\n",
       "                        <br/>0 comments, 0 views\n",
       "                    </div>\n",
       "                </div>\n",
       "                "
      ],
      "text/plain": [
       "<Item title:\"Network Analysis: Investigate Chennai floods\" type:Notebook owner:ArcGISPyAPIBot>"
      ]
     },
     "execution_count": 33,
     "metadata": {},
     "output_type": "execute_result"
    }
   ],
   "source": [
    "item"
   ]
  },
  {
   "cell_type": "markdown",
   "metadata": {},
   "source": [
    "## Servers"
   ]
  },
  {
   "cell_type": "code",
   "execution_count": 24,
   "metadata": {},
   "outputs": [
    {
     "data": {
      "text/plain": [
       "[<Server at https://pythonapi.playground.esri.com/server/admin>,\n",
       " <Server at https://pythonapi.playground.esri.com/ra/admin>,\n",
       " <Server at https://pythonapi.playground.esri.com/ga/admin>]"
      ]
     },
     "execution_count": 24,
     "metadata": {},
     "output_type": "execute_result"
    }
   ],
   "source": [
    "servers = enterprise.admin.servers\n",
    "\n",
    "servers.list()"
   ]
  },
  {
   "cell_type": "code",
   "execution_count": 25,
   "metadata": {},
   "outputs": [],
   "source": [
    "hosting_server = servers.list()[0]"
   ]
  },
  {
   "cell_type": "code",
   "execution_count": 26,
   "metadata": {},
   "outputs": [
    {
     "data": {
      "text/plain": [
       "<Server at https://pythonapi.playground.esri.com/server/admin>"
      ]
     },
     "execution_count": 26,
     "metadata": {},
     "output_type": "execute_result"
    }
   ],
   "source": [
    "hosting_server"
   ]
  },
  {
   "cell_type": "code",
   "execution_count": 27,
   "metadata": {},
   "outputs": [
    {
     "data": {
      "text/plain": [
       "<Service at https://pythonapi.playground.esri.com/server/admin/services/GPImportScript.GPServer>"
      ]
     },
     "execution_count": 27,
     "metadata": {},
     "output_type": "execute_result"
    }
   ],
   "source": [
    "world_cities = hosting_server.services.list()[2]\n",
    "world_cities"
   ]
  },
  {
   "cell_type": "code",
   "execution_count": 28,
   "metadata": {},
   "outputs": [
    {
     "data": {
      "text/plain": [
       "{'configuredState': 'STARTED', 'realTimeState': 'STARTED'}"
      ]
     },
     "execution_count": 28,
     "metadata": {},
     "output_type": "execute_result"
    }
   ],
   "source": [
    "world_cities.status"
   ]
  },
  {
   "cell_type": "code",
   "execution_count": 29,
   "metadata": {},
   "outputs": [
    {
     "data": {
      "text/plain": [
       "{'summary': {'folderName': '/',\n",
       "  'serviceName': 'GPImportScript',\n",
       "  'type': 'GPServer',\n",
       "  'max': 2,\n",
       "  'busy': 0,\n",
       "  'free': 1,\n",
       "  'initializing': 0,\n",
       "  'notCreated': 1,\n",
       "  'transactions': 0,\n",
       "  'totalBusyTime': 0,\n",
       "  'isStatisticsAvailable': True},\n",
       " 'perMachine': [{'folderName': '/',\n",
       "   'serviceName': 'GPImportScript',\n",
       "   'type': 'GPServer',\n",
       "   'max': 2,\n",
       "   'busy': 0,\n",
       "   'free': 1,\n",
       "   'initializing': 0,\n",
       "   'notCreated': 1,\n",
       "   'transactions': 0,\n",
       "   'totalBusyTime': 0,\n",
       "   'machineName': '172.31.29.237',\n",
       "   'isStatisticsAvailable': True}]}"
      ]
     },
     "execution_count": 29,
     "metadata": {},
     "output_type": "execute_result"
    }
   ],
   "source": [
    "world_cities.statistics"
   ]
  },
  {
   "cell_type": "code",
   "execution_count": 30,
   "metadata": {},
   "outputs": [
    {
     "data": {
      "text/plain": [
       "True"
      ]
     },
     "execution_count": 30,
     "metadata": {},
     "output_type": "execute_result"
    }
   ],
   "source": [
    "world_cities.stop()"
   ]
  },
  {
   "cell_type": "code",
   "execution_count": 31,
   "metadata": {},
   "outputs": [
    {
     "data": {
      "text/plain": [
       "True"
      ]
     },
     "execution_count": 31,
     "metadata": {},
     "output_type": "execute_result"
    }
   ],
   "source": [
    "world_cities.start()"
   ]
  },
  {
   "cell_type": "code",
   "execution_count": null,
   "metadata": {},
   "outputs": [],
   "source": []
  }
 ],
 "metadata": {
  "anaconda-cloud": {},
  "kernelspec": {
   "display_name": "Python 3",
   "language": "python",
   "name": "python3"
  },
  "language_info": {
   "codemirror_mode": {
    "name": "ipython",
    "version": 3
   },
   "file_extension": ".py",
   "mimetype": "text/x-python",
   "name": "python",
   "nbconvert_exporter": "python",
   "pygments_lexer": "ipython3",
   "version": "3.7.3"
  }
 },
 "nbformat": 4,
 "nbformat_minor": 1
}
