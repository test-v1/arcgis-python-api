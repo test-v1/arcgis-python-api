{
 "cells": [
  {
   "cell_type": "markdown",
   "metadata": {},
   "source": [
    "# Check for broken URLs\n",
    "\n",
    "A WebMap is a collection of layers, basemaps, and other services. These services are hosted on either ArcGIS Online or an external ArcGIS Server, separate from the WebMap itself. If the external service gets deleted, the WebMap will still exist, but it will not function properly.\n",
    "\n",
    "This notebook will search through all WebMaps in specified groups, and will attempt to connect to each layer URL, basemap URL, etc. If the connection fails for any URL, the owner of the WebMap and other specified users will be notified. This notebook can be used to automatically identify broken WebMaps, and alert the necessary users so they can take the appropriate action."
   ]
  },
  {
   "cell_type": "markdown",
   "metadata": {},
   "source": [
    "To get started, import the necessary libraries and connect to our GIS:"
   ]
  },
  {
   "cell_type": "code",
   "execution_count": 1,
   "metadata": {},
   "outputs": [
    {
     "name": "stdout",
     "output_type": "stream",
     "text": [
      "Enter password: ········\n"
     ]
    }
   ],
   "source": [
    "import csv\n",
    "import smtplib\n",
    "import requests\n",
    "import logging\n",
    "log = logging.getLogger()\n",
    "\n",
    "from IPython.display import display, HTML\n",
    "\n",
    "from arcgis.gis import GIS\n",
    "from arcgis.mapping import WebMap\n",
    "\n",
    "def send_email_smtp(recipients, message, subject=\"\"):\n",
    "    pass\n",
    "\n",
    "gis = GIS(username=\"DavidJVitale\")"
   ]
  },
  {
   "cell_type": "code",
   "execution_count": 2,
   "metadata": {},
   "outputs": [],
   "source": [
    "# Set to `True` you would like to check ALL items in an Org\n",
    "CHECK_ALL_ITEMS = True\n",
    "# If `CHECK_ALL_ITEMS` is `False`, will check all items in these groups\n",
    "CHECK_THESE_GROUPS = ['group_name_1', 'group_name_2']"
   ]
  },
  {
   "cell_type": "code",
   "execution_count": 3,
   "metadata": {},
   "outputs": [],
   "source": [
    "# If you try to email the author of the WebMap of the Broken URLs\n",
    "TRY_EMAIL_WEBMAP_OWNER = False\n",
    "# Email these additional people about any broken URLs\n",
    "EMAIL_THESE_ADDITIONAL_PEOPLE = []"
   ]
  },
  {
   "cell_type": "markdown",
   "metadata": {},
   "source": [
    "## WebMap Parsing Logic\n",
    "\n",
    "A core component of this notebook will be testing if different URLs are 'reachable'. We will do this by creating a helper function that uses the `requests` library to make an HTTP GET request to the specified url and assert that is returns a good HTTP status code."
   ]
  },
  {
   "cell_type": "code",
   "execution_count": 4,
   "metadata": {},
   "outputs": [],
   "source": [
    "def is_url_reachable(url):\n",
    "    \"\"\"Returns a bool representing if the URL is reachable\"\"\"\n",
    "    try:\n",
    "        response = requests.get(url)\n",
    "        return response.ok\n",
    "    except Exception as e:\n",
    "        return False"
   ]
  },
  {
   "cell_type": "markdown",
   "metadata": {},
   "source": [
    "Test out this helper function by passing in strings such as `\"https://arcgis.com\"` or `\"https://arcgis.com/nonexistantpage.html\"`.\n",
    "\n",
    "Now, we can create a function that will test the URLs of all operational layers and basemap layers of a WebMap. This function will return a tuple of reachable and unreachable layers."
   ]
  },
  {
   "cell_type": "code",
   "execution_count": 5,
   "metadata": {},
   "outputs": [],
   "source": [
    "def test_urls_in_webmap(webmap_item):\n",
    "    \"\"\"Takes in an `Item` class instance of a Web Map Item.\n",
    "    Tests if all operational layers and basemap layers are\n",
    "    reachable. Returns a tuple of (reachable, unreachable), \n",
    "    with each tuple entry being a list of layers/basemaps JSON.\n",
    "    \"\"\"\n",
    "    reachable = []\n",
    "    unreachable = []\n",
    "    wm = WebMap(webmap_item)\n",
    "\n",
    "    # Concatanate all operational layers and basemap layers to 1 list\n",
    "    all_layers = list(wm.layers)\n",
    "    if hasattr(wm.basemap, 'baseMapLayers'):\n",
    "        all_layers += wm.basemap.baseMapLayers\n",
    "\n",
    "    # Test all of the layers, return the results\n",
    "    for layer in [layer for layer in all_layers \\\n",
    "                  if hasattr(layer, 'url')]:\n",
    "        if is_url_reachable(layer.url):\n",
    "            log.debug(f\"    [✓] url {layer.url} reachable\")\n",
    "            reachable.append(layer)\n",
    "        else:\n",
    "            log.debug(f\"    [X] url {layer.url} NOT reachable\")\n",
    "            unreachable.append(layer)\n",
    "    return (reachable, unreachable)"
   ]
  },
  {
   "cell_type": "markdown",
   "metadata": {},
   "source": [
    "Test out this function by passing in an `Item` class instance of a Web Map Item.\n",
    "\n",
    "Now, let's create a helper function that assembles a human readable string with information about the WebMap, what URLs aren't reachable, etc. We will use this when sending out emails."
   ]
  },
  {
   "cell_type": "code",
   "execution_count": 6,
   "metadata": {},
   "outputs": [],
   "source": [
    "def assemble_message(webmap_item, reachable, unreachable):\n",
    "    \"\"\"Makes a human readable message with the args passed in\"\"\"\n",
    "    def _assemble_bullet_point(layer, is_reachable):\n",
    "        \"\"\"Internal function to assemble one bullet point from a layer\"\"\"\n",
    "        icon = '✅' if is_reachable else '❌'\n",
    "        return f\"* {icon} {layer.id}\"\n",
    "\n",
    "    # Assemble a string representation of both lists\n",
    "    reachable_str = \"\\n\".join(_assemble_bullet_point(layer, True) \\\n",
    "                               for layer in reachable)\n",
    "    unreachable_str = \"\\n\".join(_assemble_bullet_point(layer, False) \\\n",
    "                               for layer in unreachable)\n",
    "\n",
    "    # Asemble the message and return it\n",
    "    return f\"Webmap ID '{webmap_item.id}' contains unreachable URLs. \"\\\n",
    "           f\"You can view the webmap here: {webmap_item.homepage}\\n\"\\\n",
    "           f\"\\n\"\\\n",
    "           f\"Reachable Layers\\n\"\\\n",
    "           f\"-----------------\\n\"\\\n",
    "           f\"{reachable_str}\\n\"\\\n",
    "           f\"\\n\"\\\n",
    "           f\"Unreachable Layers\\n\"\\\n",
    "           f\"-------------------\\n\"\\\n",
    "           f\"{unreachable_str}\""
   ]
  },
  {
   "cell_type": "markdown",
   "metadata": {},
   "source": [
    "Now, let's create the function that will be called whenever we encounter a WebMap with broken URLs. This function will assemble the appropriate people to email, assemble the message/subject to send, then send the message to the recipients."
   ]
  },
  {
   "cell_type": "code",
   "execution_count": 7,
   "metadata": {},
   "outputs": [],
   "source": [
    "def handle_unreachable(webmap_item, reachable, unreachable,\n",
    "                        gis=gis):\n",
    "    \"\"\"Called whenever we encounter a WebMap with broken URLs. Will \n",
    "    assemble an appropriate message, and send it out to the previously\n",
    "    configured emails.\n",
    "    \"\"\"\n",
    "    display(HTML(\"<h3>THIS ITEM CONTAINS UNREACHABLE URLS:</h3>\"))\n",
    "    display(webmap_item)"
   ]
  },
  {
   "cell_type": "markdown",
   "metadata": {},
   "source": [
    "> __Note__: If you have an alternative notification function you want to use, make sure you modify the above cell to include that function."
   ]
  },
  {
   "cell_type": "markdown",
   "metadata": {},
   "source": [
    "Now, let's create a generator function that will `yield` `Item`(s). This notebook can run against all items in an Organization, or all items from certain groups, depending on how you configured the notebook above."
   ]
  },
  {
   "cell_type": "code",
   "execution_count": 8,
   "metadata": {},
   "outputs": [],
   "source": [
    "def get_items_to_check():\n",
    "    \"\"\"Generator function that will yield Items depending on how you\n",
    "    configured your notebook. Will either yield every item in an \n",
    "    organization, or will yield items in specific groups.\n",
    "    \"\"\"\n",
    "    for item in gis.users.me.items(max_items=999999999):\n",
    "        # For the user's root folder\n",
    "        yield item\n",
    "    for folder in gis.users.me.folders:\n",
    "        # For all the user's other folders\n",
    "        for item in gis.users.me.items(folder, max_items=999999999):\n",
    "            yield item"
   ]
  },
  {
   "cell_type": "markdown",
   "metadata": {},
   "source": [
    "## main()\n",
    "\n",
    "Finally, let's create our `main()` function that links together all our previously defined functions to search through groups, test all webmaps for broken URLs, and alert the correct people when we find unreachable URLs."
   ]
  },
  {
   "cell_type": "code",
   "execution_count": 9,
   "metadata": {},
   "outputs": [],
   "source": [
    "def main():\n",
    "    print(\"Notebook is now running, please wait...\\n-----\")\n",
    "    for item in get_items_to_check():\n",
    "        print(f\"\\rChecking item {item.id}\", end=\"\")\n",
    "        if item.type == \"Web Map\":\n",
    "            reachable, unreachable = test_urls_in_webmap(item)\n",
    "            if unreachable:\n",
    "                print(f\"\\nWebmap {item.id} unreachable. Notifying...\")\n",
    "                handle_unreachable(item, reachable, unreachable)\n",
    "    print(\"-----\\nNotebook completed running.\")"
   ]
  },
  {
   "cell_type": "code",
   "execution_count": 23,
   "metadata": {},
   "outputs": [
    {
     "name": "stdout",
     "output_type": "stream",
     "text": [
      "Notebook is now running, please wait...\n",
      "-----\n",
      "Checking item 222707e6e0c345f899b86fadb61ff4ad-----\n",
      "Notebook completed running.\n"
     ]
    }
   ],
   "source": [
    "main()"
   ]
  },
  {
   "cell_type": "code",
   "execution_count": 11,
   "metadata": {},
   "outputs": [
    {
     "data": {
      "text/html": [
       "<div class=\"item_container\" style=\"height: auto; overflow: hidden; border: 1px solid #cfcfcf; border-radius: 2px; background: #f6fafa; line-height: 1.21429em; padding: 10px;\">\n",
       "                    <div class=\"item_left\" style=\"width: 210px; float: left;\">\n",
       "                       <a href='https://geosaurus.maps.arcgis.com/home/item.html?id=7b370691501d4c27b0e755458c916057' target='_blank'>\n",
       "                        <img src='data:image/png;base64,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' width='200' height='133' class=\"itemThumbnail\">\n",
       "                       </a>\n",
       "                    </div>\n",
       "\n",
       "                    <div class=\"item_right\"     style=\"float: none; width: auto; overflow: hidden;\">\n",
       "                        <a href='https://geosaurus.maps.arcgis.com/home/item.html?id=7b370691501d4c27b0e755458c916057' target='_blank'><b>My Webmap from the old portal</b>\n",
       "                        </a>\n",
       "                        <br/>A webmap from the old portal<img src='https://geosaurus.maps.arcgis.com/home/js/jsapi/esri/css/images/item_type_icons/maps16.png' style=\"vertical-align:middle;\">Web Map by DavidJVitale\n",
       "                        <br/>Last Modified: July 11, 2019\n",
       "                        <br/>0 comments, 13 views\n",
       "                    </div>\n",
       "                </div>\n",
       "                "
      ],
      "text/plain": [
       "<Item title:\"My Webmap from the old portal\" type:Web Map owner:DavidJVitale>"
      ]
     },
     "execution_count": 11,
     "metadata": {},
     "output_type": "execute_result"
    }
   ],
   "source": [
    "wm_item = gis.content.get('7b370691501d4c27b0e755458c916057')\n",
    "wm_item"
   ]
  },
  {
   "cell_type": "code",
   "execution_count": 12,
   "metadata": {},
   "outputs": [
    {
     "data": {
      "text/plain": [
       "{'operationalLayers': [{'id': 'USA_Daytime_Population_2016_763',\n",
       "   'layerType': 'ArcGISFeatureLayer',\n",
       "   'url': 'https://services.arcgis.com/jIL9msH9OI208GCb/arcgis/rest/services/USA_Daytime_Population_2016/FeatureServer/2',\n",
       "   'visibility': True,\n",
       "   'opacity': 1,\n",
       "   'title': 'USA 2016 Daytime Population - Tracts',\n",
       "   'itemId': 'f01f0eda766344e29f42031e7bfb7d04'},\n",
       "  {'id': 'USA_Daytime_Population_2016_7562',\n",
       "   'layerType': 'ArcGISFeatureLayer',\n",
       "   'url': 'https://my-old-portal.nonexistantwebsite3112020.com/arcgis/rest/services/USA_Daytime_Population_2016/FeatureServer/1',\n",
       "   'visibility': True,\n",
       "   'opacity': 1,\n",
       "   'title': 'USA 2016 Daytime Population - Counties',\n",
       "   'itemId': 'f01f0eda766344e29f42031e7bfb7d04'},\n",
       "  {'id': 'USA_Daytime_Population_2016_3919',\n",
       "   'layerType': 'ArcGISFeatureLayer',\n",
       "   'url': 'https://services.arcgis.com/jIL9msH9OI208GCb/arcgis/rest/services/USA_Daytime_Population_2016/FeatureServer/0',\n",
       "   'visibility': True,\n",
       "   'opacity': 1,\n",
       "   'title': 'USA 2016 Daytime Population - States',\n",
       "   'itemId': 'f01f0eda766344e29f42031e7bfb7d04'}],\n",
       " 'baseMap': {'baseMapLayers': [{'id': 'defaultBasemap',\n",
       "    'layerType': 'ArcGISTiledMapServiceLayer',\n",
       "    'url': 'https://services.arcgisonline.com/ArcGIS/rest/services/World_Topo_Map/MapServer',\n",
       "    'visibility': True,\n",
       "    'opacity': 1,\n",
       "    'title': 'Topographic'}],\n",
       "  'title': 'Topographic'},\n",
       " 'spatialReference': {'wkid': 102100, 'latestWkid': 3857},\n",
       " 'authoringApp': 'WebMapViewer',\n",
       " 'authoringAppVersion': '7.2',\n",
       " 'version': '2.15'}"
      ]
     },
     "execution_count": 12,
     "metadata": {},
     "output_type": "execute_result"
    }
   ],
   "source": [
    "data = wm_item.get_data()\n",
    "data"
   ]
  },
  {
   "cell_type": "code",
   "execution_count": 15,
   "metadata": {},
   "outputs": [
    {
     "data": {
      "text/plain": [
       "{'id': 'USA_Daytime_Population_2016_7562',\n",
       " 'layerType': 'ArcGISFeatureLayer',\n",
       " 'url': 'https://my-old-portal.nonexistantwebsite3112020.com/arcgis/rest/services/USA_Daytime_Population_2016/FeatureServer/1',\n",
       " 'visibility': True,\n",
       " 'opacity': 1,\n",
       " 'title': 'USA 2016 Daytime Population - Counties',\n",
       " 'itemId': 'f01f0eda766344e29f42031e7bfb7d04'}"
      ]
     },
     "execution_count": 15,
     "metadata": {},
     "output_type": "execute_result"
    }
   ],
   "source": [
    "data['operationalLayers'][1]"
   ]
  },
  {
   "cell_type": "code",
   "execution_count": 16,
   "metadata": {},
   "outputs": [],
   "source": [
    "data['operationalLayers'][1]['url'] = \\\n",
    "    \"https://services.arcgis.com/jIL9msH9OI208GCb/arcgis/rest/services/USA_Daytime_Population_2016/FeatureServer/1\""
   ]
  },
  {
   "cell_type": "code",
   "execution_count": 17,
   "metadata": {},
   "outputs": [
    {
     "data": {
      "text/plain": [
       "{'id': 'USA_Daytime_Population_2016_7562',\n",
       " 'layerType': 'ArcGISFeatureLayer',\n",
       " 'url': 'https://services.arcgis.com/jIL9msH9OI208GCb/arcgis/rest/services/USA_Daytime_Population_2016/FeatureServer/1',\n",
       " 'visibility': True,\n",
       " 'opacity': 1,\n",
       " 'title': 'USA 2016 Daytime Population - Counties',\n",
       " 'itemId': 'f01f0eda766344e29f42031e7bfb7d04'}"
      ]
     },
     "execution_count": 17,
     "metadata": {},
     "output_type": "execute_result"
    }
   ],
   "source": [
    "data['operationalLayers'][1]"
   ]
  },
  {
   "cell_type": "code",
   "execution_count": 20,
   "metadata": {},
   "outputs": [
    {
     "data": {
      "text/plain": [
       "True"
      ]
     },
     "execution_count": 20,
     "metadata": {},
     "output_type": "execute_result"
    }
   ],
   "source": [
    "wm_item.update({'text' : data})"
   ]
  }
 ],
 "metadata": {
  "esriNotebookRuntime": {
   "notebookRuntimeName": "ArcGIS Notebook Python 3 Standard",
   "notebookRuntimeVersion": "10.7.1"
  },
  "kernelspec": {
   "display_name": "Python 3",
   "language": "python",
   "name": "python3"
  },
  "language_info": {
   "codemirror_mode": {
    "name": "ipython",
    "version": 3
   },
   "file_extension": ".py",
   "mimetype": "text/x-python",
   "name": "python",
   "nbconvert_exporter": "python",
   "pygments_lexer": "ipython3",
   "version": "3.7.3"
  }
 },
 "nbformat": 4,
 "nbformat_minor": 2
}
