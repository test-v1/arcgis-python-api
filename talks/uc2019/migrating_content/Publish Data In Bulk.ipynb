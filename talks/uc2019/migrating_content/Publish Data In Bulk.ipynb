{
 "cells": [
  {
   "cell_type": "markdown",
   "metadata": {},
   "source": [
    "# Publish Data In Bulk"
   ]
  },
  {
   "cell_type": "code",
   "execution_count": 1,
   "metadata": {},
   "outputs": [
    {
     "name": "stdout",
     "output_type": "stream",
     "text": [
      "Enter password: ········\n"
     ]
    }
   ],
   "source": [
    "import os\n",
    "import logging\n",
    "log = logging.getLogger()\n",
    "\n",
    "from IPython.display import display, HTML\n",
    "\n",
    "from arcgis.gis import GIS\n",
    "\n",
    "gis = GIS(username=\"DavidJVitale\")"
   ]
  },
  {
   "cell_type": "code",
   "execution_count": 2,
   "metadata": {},
   "outputs": [
    {
     "name": "stdout",
     "output_type": "stream",
     "text": [
      "['.DS_Store', 'shapefiles', 'portal_sd_items']\n"
     ]
    }
   ],
   "source": [
    "publish_data_dir_root = os.path.join(\".\",\"files_to_publish\")\n",
    "print(os.listdir(publish_data_dir_root))"
   ]
  },
  {
   "cell_type": "code",
   "execution_count": 3,
   "metadata": {},
   "outputs": [],
   "source": [
    "def get_absolute_file_paths(directory):\n",
    "    for dirpath, _ ,filenames in os.walk(directory):\n",
    "        for f in filenames:\n",
    "            yield os.path.abspath(os.path.join(dirpath, f))"
   ]
  },
  {
   "cell_type": "code",
   "execution_count": 4,
   "metadata": {},
   "outputs": [
    {
     "data": {
      "text/html": [
       "<div class=\"9item_container\" style=\"height: auto; overflow: hidden; border: 1px solid #cfcfcf; border-radius: 2px; background: #f6fafa; line-height: 1.21429em; padding: 10px;\">\n",
       "                    <div class=\"item_left\" style=\"width: 210px; float: left;\">\n",
       "                       <a href='https://geosaurus.maps.arcgis.com/home/group.html?id=3ebcef3b10744de3b3726e98c6cbc0c9' target='_blank'>\n",
       "                        <img src='https://geosaurus.maps.arcgis.com/home/images/group-no-image.png' class=\"itemThumbnail\">\n",
       "                       </a>\n",
       "                    </div>\n",
       "\n",
       "                    <div class=\"item_right\" style=\"float: none; width: auto; overflow: hidden;\">\n",
       "                        <a href='https://geosaurus.maps.arcgis.com/home/group.html?id=3ebcef3b10744de3b3726e98c6cbc0c9' target='_blank'><b>uc2019 bulk publish example</b>\n",
       "                        </a>\n",
       "                        <br/>\n",
       "                        <br/><b>Summary</b>: None\n",
       "                        <br/><b>Description</b>: None\n",
       "                        <br/><b>Owner</b>: DavidJVitale\n",
       "                        <br/><b>Created</b>: July 11, 2019\n",
       "\n",
       "                    </div>\n",
       "                </div>\n",
       "                "
      ],
      "text/plain": [
       "<Group title:\"uc2019 bulk publish example\" owner:DavidJVitale>"
      ]
     },
     "execution_count": 4,
     "metadata": {},
     "output_type": "execute_result"
    }
   ],
   "source": [
    "group = gis.groups.get('3ebcef3b10744de3b3726e98c6cbc0c9')\n",
    "group"
   ]
  },
  {
   "cell_type": "markdown",
   "metadata": {},
   "source": [
    "Run the below cell to publish all zipped shapefiles in the `files_to_publish` dir:"
   ]
  },
  {
   "cell_type": "code",
   "execution_count": 5,
   "metadata": {},
   "outputs": [
    {
     "name": "stdout",
     "output_type": "stream",
     "text": [
      "Shapefile /Users/davi9349/devel/arcfork/talks/uc2019/migrating_content/files_to_publish/shapefiles/SwimmingPools180605b.zip...\n",
      "Shapefile /Users/davi9349/devel/arcfork/talks/uc2019/migrating_content/files_to_publish/shapefiles/community_college_district_2.zip...\n",
      "Shapefile /Users/davi9349/devel/arcfork/talks/uc2019/migrating_content/files_to_publish/shapefiles/restaurants_pittsburgh.zip...\n",
      "Shapefile /Users/davi9349/devel/arcfork/talks/uc2019/migrating_content/files_to_publish/shapefiles/chennai_relief_centers.zip...\n",
      "Shapefile /Users/davi9349/devel/arcfork/talks/uc2019/migrating_content/files_to_publish/shapefiles/Commercial_Permits_since_2010.zip...\n",
      "Shapefile /Users/davi9349/devel/arcfork/talks/uc2019/migrating_content/files_to_publish/shapefiles/ALS_Clinics_CA.zip...\n"
     ]
    }
   ],
   "source": [
    "shapefile_dir = os.path.join(publish_data_dir_root, \"shapefiles\")\n",
    "\n",
    "for shapefile_path in get_absolute_file_paths(shapefile_dir):\n",
    "    print(f\"Shapefile {shapefile_path}...\")"
   ]
  },
  {
   "cell_type": "code",
   "execution_count": 6,
   "metadata": {
    "scrolled": false
   },
   "outputs": [
    {
     "name": "stdout",
     "output_type": "stream",
     "text": [
      "Attempting to publishing /Users/davi9349/devel/arcfork/talks/uc2019/migrating_content/files_to_publish/shapefiles/SwimmingPools180605b.zip...\n"
     ]
    },
    {
     "data": {
      "text/html": [
       "<div class=\"item_container\" style=\"height: auto; overflow: hidden; border: 1px solid #cfcfcf; border-radius: 2px; background: #f6fafa; line-height: 1.21429em; padding: 10px;\">\n",
       "                    <div class=\"item_left\" style=\"width: 210px; float: left;\">\n",
       "                       <a href='https://geosaurus.maps.arcgis.com/home/item.html?id=261b05acf3be4ea288bd8c8a85121fda' target='_blank'>\n",
       "                        <img src='http://static.arcgis.com/images/desktopapp.png' class=\"itemThumbnail\">\n",
       "                       </a>\n",
       "                    </div>\n",
       "\n",
       "                    <div class=\"item_right\"     style=\"float: none; width: auto; overflow: hidden;\">\n",
       "                        <a href='https://geosaurus.maps.arcgis.com/home/item.html?id=261b05acf3be4ea288bd8c8a85121fda' target='_blank'><b>SwimmingPools180605b</b>\n",
       "                        </a>\n",
       "                        <br/><img src='https://geosaurus.maps.arcgis.com/home/js/jsapi/esri/css/images/item_type_icons/featureshosted16.png' style=\"vertical-align:middle;\">Feature Layer Collection by DavidJVitale\n",
       "                        <br/>Last Modified: July 11, 2019\n",
       "                        <br/>0 comments, 0 views\n",
       "                    </div>\n",
       "                </div>\n",
       "                "
      ],
      "text/plain": [
       "<Item title:\"SwimmingPools180605b\" type:Feature Layer Collection owner:DavidJVitale>"
      ]
     },
     "metadata": {},
     "output_type": "display_data"
    },
    {
     "name": "stdout",
     "output_type": "stream",
     "text": [
      "Attempting to publishing /Users/davi9349/devel/arcfork/talks/uc2019/migrating_content/files_to_publish/shapefiles/community_college_district_2.zip...\n"
     ]
    },
    {
     "data": {
      "text/html": [
       "<div class=\"item_container\" style=\"height: auto; overflow: hidden; border: 1px solid #cfcfcf; border-radius: 2px; background: #f6fafa; line-height: 1.21429em; padding: 10px;\">\n",
       "                    <div class=\"item_left\" style=\"width: 210px; float: left;\">\n",
       "                       <a href='https://geosaurus.maps.arcgis.com/home/item.html?id=fb559a1771bd44e4998344481d9ea797' target='_blank'>\n",
       "                        <img src='http://static.arcgis.com/images/desktopapp.png' class=\"itemThumbnail\">\n",
       "                       </a>\n",
       "                    </div>\n",
       "\n",
       "                    <div class=\"item_right\"     style=\"float: none; width: auto; overflow: hidden;\">\n",
       "                        <a href='https://geosaurus.maps.arcgis.com/home/item.html?id=fb559a1771bd44e4998344481d9ea797' target='_blank'><b>community_college_district_2</b>\n",
       "                        </a>\n",
       "                        <br/><img src='https://geosaurus.maps.arcgis.com/home/js/jsapi/esri/css/images/item_type_icons/featureshosted16.png' style=\"vertical-align:middle;\">Feature Layer Collection by DavidJVitale\n",
       "                        <br/>Last Modified: July 11, 2019\n",
       "                        <br/>0 comments, 0 views\n",
       "                    </div>\n",
       "                </div>\n",
       "                "
      ],
      "text/plain": [
       "<Item title:\"community_college_district_2\" type:Feature Layer Collection owner:DavidJVitale>"
      ]
     },
     "metadata": {},
     "output_type": "display_data"
    },
    {
     "name": "stdout",
     "output_type": "stream",
     "text": [
      "Attempting to publishing /Users/davi9349/devel/arcfork/talks/uc2019/migrating_content/files_to_publish/shapefiles/restaurants_pittsburgh.zip...\n"
     ]
    },
    {
     "data": {
      "text/html": [
       "<div class=\"item_container\" style=\"height: auto; overflow: hidden; border: 1px solid #cfcfcf; border-radius: 2px; background: #f6fafa; line-height: 1.21429em; padding: 10px;\">\n",
       "                    <div class=\"item_left\" style=\"width: 210px; float: left;\">\n",
       "                       <a href='https://geosaurus.maps.arcgis.com/home/item.html?id=dbce516337d342aaabead6fbf85fe8bb' target='_blank'>\n",
       "                        <img src='data:image/png;base64,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' width='200' height='133' class=\"itemThumbnail\">\n",
       "                       </a>\n",
       "                    </div>\n",
       "\n",
       "                    <div class=\"item_right\"     style=\"float: none; width: auto; overflow: hidden;\">\n",
       "                        <a href='https://geosaurus.maps.arcgis.com/home/item.html?id=dbce516337d342aaabead6fbf85fe8bb' target='_blank'><b>restaurants_pittsburgh</b>\n",
       "                        </a>\n",
       "                        <br/>Infogroup Business Locations collects the locations of over 13 million private and public companies in United States. It includes address information, estimated sales or assets, number of employees, franchise/specialty information, and Standard Industrial Classification (SIC) and North American Industry Classification System (NAICS) codes.<img src='https://geosaurus.maps.arcgis.com/home/js/jsapi/esri/css/images/item_type_icons/featureshosted16.png' style=\"vertical-align:middle;\">Feature Layer Collection by DavidJVitale\n",
       "                        <br/>Last Modified: July 11, 2019\n",
       "                        <br/>0 comments, 0 views\n",
       "                    </div>\n",
       "                </div>\n",
       "                "
      ],
      "text/plain": [
       "<Item title:\"restaurants_pittsburgh\" type:Feature Layer Collection owner:DavidJVitale>"
      ]
     },
     "metadata": {},
     "output_type": "display_data"
    },
    {
     "name": "stdout",
     "output_type": "stream",
     "text": [
      "Attempting to publishing /Users/davi9349/devel/arcfork/talks/uc2019/migrating_content/files_to_publish/shapefiles/chennai_relief_centers.zip...\n"
     ]
    },
    {
     "data": {
      "text/html": [
       "<div class=\"item_container\" style=\"height: auto; overflow: hidden; border: 1px solid #cfcfcf; border-radius: 2px; background: #f6fafa; line-height: 1.21429em; padding: 10px;\">\n",
       "                    <div class=\"item_left\" style=\"width: 210px; float: left;\">\n",
       "                       <a href='https://geosaurus.maps.arcgis.com/home/item.html?id=e83dc2868dbc4101a4ca40783465a3ab' target='_blank'>\n",
       "                        <img src='http://static.arcgis.com/images/desktopapp.png' class=\"itemThumbnail\">\n",
       "                       </a>\n",
       "                    </div>\n",
       "\n",
       "                    <div class=\"item_right\"     style=\"float: none; width: auto; overflow: hidden;\">\n",
       "                        <a href='https://geosaurus.maps.arcgis.com/home/item.html?id=e83dc2868dbc4101a4ca40783465a3ab' target='_blank'><b>chennai_relief_centers</b>\n",
       "                        </a>\n",
       "                        <br/><img src='https://geosaurus.maps.arcgis.com/home/js/jsapi/esri/css/images/item_type_icons/featureshosted16.png' style=\"vertical-align:middle;\">Feature Layer Collection by DavidJVitale\n",
       "                        <br/>Last Modified: July 11, 2019\n",
       "                        <br/>0 comments, 0 views\n",
       "                    </div>\n",
       "                </div>\n",
       "                "
      ],
      "text/plain": [
       "<Item title:\"chennai_relief_centers\" type:Feature Layer Collection owner:DavidJVitale>"
      ]
     },
     "metadata": {},
     "output_type": "display_data"
    },
    {
     "name": "stdout",
     "output_type": "stream",
     "text": [
      "Attempting to publishing /Users/davi9349/devel/arcfork/talks/uc2019/migrating_content/files_to_publish/shapefiles/Commercial_Permits_since_2010.zip...\n"
     ]
    },
    {
     "name": "stderr",
     "output_type": "stream",
     "text": [
      "Could not publish /Users/davi9349/devel/arcfork/talks/uc2019/migrating_content/files_to_publish/shapefiles/Commercial_Permits_since_2010.zip. Exception thrown: 'error'\n"
     ]
    },
    {
     "name": "stdout",
     "output_type": "stream",
     "text": [
      "Attempting to publishing /Users/davi9349/devel/arcfork/talks/uc2019/migrating_content/files_to_publish/shapefiles/ALS_Clinics_CA.zip...\n"
     ]
    },
    {
     "data": {
      "text/html": [
       "<div class=\"item_container\" style=\"height: auto; overflow: hidden; border: 1px solid #cfcfcf; border-radius: 2px; background: #f6fafa; line-height: 1.21429em; padding: 10px;\">\n",
       "                    <div class=\"item_left\" style=\"width: 210px; float: left;\">\n",
       "                       <a href='https://geosaurus.maps.arcgis.com/home/item.html?id=ea3e56d62c794a2e9ea58bee261f65fb' target='_blank'>\n",
       "                        <img src='http://static.arcgis.com/images/desktopapp.png' class=\"itemThumbnail\">\n",
       "                       </a>\n",
       "                    </div>\n",
       "\n",
       "                    <div class=\"item_right\"     style=\"float: none; width: auto; overflow: hidden;\">\n",
       "                        <a href='https://geosaurus.maps.arcgis.com/home/item.html?id=ea3e56d62c794a2e9ea58bee261f65fb' target='_blank'><b>ALS_Clinics_CA</b>\n",
       "                        </a>\n",
       "                        <br/><img src='https://geosaurus.maps.arcgis.com/home/js/jsapi/esri/css/images/item_type_icons/featureshosted16.png' style=\"vertical-align:middle;\">Feature Layer Collection by DavidJVitale\n",
       "                        <br/>Last Modified: July 11, 2019\n",
       "                        <br/>0 comments, 0 views\n",
       "                    </div>\n",
       "                </div>\n",
       "                "
      ],
      "text/plain": [
       "<Item title:\"ALS_Clinics_CA\" type:Feature Layer Collection owner:DavidJVitale>"
      ]
     },
     "metadata": {},
     "output_type": "display_data"
    }
   ],
   "source": [
    "shapefile_dir = os.path.join(publish_data_dir_root, \"shapefiles\")\n",
    "\n",
    "for shapefile_path in get_absolute_file_paths(shapefile_dir):\n",
    "    print(f\"Attempting to publishing {shapefile_path}...\")\n",
    "    try:\n",
    "        item = gis.content.add({}, shapefile_path)\n",
    "        published_item = item.publish()\n",
    "        published_item.share(groups=[group,])\n",
    "        display(published_item)\n",
    "    except Exception as e:\n",
    "        log.warning(f\"Could not publish {shapefile_path}. \"\\\n",
    "                    f\"Exception thrown: {e}\")"
   ]
  },
  {
   "cell_type": "markdown",
   "metadata": {},
   "source": [
    "Run the below cell to publish all Portal `.sd` files in the `files_to_publish` dir:"
   ]
  },
  {
   "cell_type": "code",
   "execution_count": 8,
   "metadata": {},
   "outputs": [
    {
     "data": {
      "text/html": [
       "<div class=\"item_container\" style=\"height: auto; overflow: hidden; border: 1px solid #cfcfcf; border-radius: 2px; background: #f6fafa; line-height: 1.21429em; padding: 10px;\">\n",
       "                    <div class=\"item_left\" style=\"width: 210px; float: left;\">\n",
       "                       <a href='https://geosaurus.maps.arcgis.com/home/item.html?id=299a0e9f57304ae3977ec5f53695d981' target='_blank'>\n",
       "                        <img src='data:image/png;base64,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' width='200' height='133' class=\"itemThumbnail\">\n",
       "                       </a>\n",
       "                    </div>\n",
       "\n",
       "                    <div class=\"item_right\"     style=\"float: none; width: auto; overflow: hidden;\">\n",
       "                        <a href='https://geosaurus.maps.arcgis.com/home/item.html?id=299a0e9f57304ae3977ec5f53695d981' target='_blank'><b>Chennai_Solid_Waste_Management</b>\n",
       "                        </a>\n",
       "                        <br/>Solid waste management<img src='https://geosaurus.maps.arcgis.com/home/js/jsapi/esri/css/images/item_type_icons/featureshosted16.png' style=\"vertical-align:middle;\">Feature Layer Collection by DavidJVitale\n",
       "                        <br/>Last Modified: July 11, 2019\n",
       "                        <br/>0 comments, 0 views\n",
       "                    </div>\n",
       "                </div>\n",
       "                "
      ],
      "text/plain": [
       "<Item title:\"Chennai_Solid_Waste_Management\" type:Feature Layer Collection owner:DavidJVitale>"
      ]
     },
     "metadata": {},
     "output_type": "display_data"
    }
   ],
   "source": [
    "portal_sd_file_dir = os.path.join(publish_data_dir_root,\n",
    "                                  \"portal_sd_items\")\n",
    "\n",
    "for portal_sd_path in get_absolute_file_paths(portal_sd_file_dir):\n",
    "    try:\n",
    "        item = gis.content.add({}, portal_sd_path)\n",
    "        published_item = item.publish()\n",
    "        published_item.share(everyone=True)\n",
    "        display(published_item)\n",
    "    except Exception as e:\n",
    "        log.warning(f\"Could not publish {shapefile_path}.\"\\\n",
    "                    f\"Exception thrown: {e}\")"
   ]
  },
  {
   "cell_type": "code",
   "execution_count": null,
   "metadata": {},
   "outputs": [],
   "source": []
  }
 ],
 "metadata": {
  "esriNotebookRuntime": {
   "notebookRuntimeName": "ArcGIS Notebook Python 3 Standard",
   "notebookRuntimeVersion": "10.7.1"
  },
  "kernelspec": {
   "display_name": "Python 3",
   "language": "python",
   "name": "python3"
  },
  "language_info": {
   "codemirror_mode": {
    "name": "ipython",
    "version": 3
   },
   "file_extension": ".py",
   "mimetype": "text/x-python",
   "name": "python",
   "nbconvert_exporter": "python",
   "pygments_lexer": "ipython3",
   "version": "3.7.3"
  }
 },
 "nbformat": 4,
 "nbformat_minor": 2
}
